{
 "cells": [
  {
   "cell_type": "markdown",
   "metadata": {
    "colab_type": "text",
    "id": "jQP9p2_pc33V"
   },
   "source": [
    "# Fashion MNIST Classification\n",
    "- with a linear network\n",
    "- https://github.com/zalandoresearch/fashion-mnist\n",
    "    - 60000 training, 10000 test\n",
    "    - $28\\times28$ grayscale\n",
    "    - Highest test accuracy: 0.939 by Google AutoML, 24 compute hours\n",
    "- https://github.com/dsgiitr/d2l-pytorch/tree/master/Ch05_Linear_Neural_Networks"
   ]
  },
  {
   "cell_type": "code",
   "execution_count": 1,
   "metadata": {
    "colab": {
     "base_uri": "https://localhost:8080/",
     "height": 35
    },
    "colab_type": "code",
    "id": "pgtywLFPc33Y",
    "outputId": "a9c837ed-1fb8-439f-e540-fe546a906b9e"
   },
   "outputs": [
    {
     "name": "stdout",
     "output_type": "stream",
     "text": [
      "cuda\n"
     ]
    }
   ],
   "source": [
    "import matplotlib.pyplot as plt\n",
    "plt.style.use('seaborn-whitegrid')\n",
    "%matplotlib inline\n",
    "import sys\n",
    "import os\n",
    "import time\n",
    "\n",
    "import torch\n",
    "import torch.nn as nn\n",
    "import torchvision\n",
    "from torchvision import transforms\n",
    "from torch.utils.data import DataLoader\n",
    "\n",
    "device = torch.device('cuda' if torch.cuda.is_available() else 'cpu')\n",
    "print(device)"
   ]
  },
  {
   "cell_type": "code",
   "execution_count": 0,
   "metadata": {
    "colab": {},
    "colab_type": "code",
    "id": "P6Dg7YZBpjCL"
   },
   "outputs": [],
   "source": [
    "xforms = transforms.Compose([transforms.ToTensor(),\n",
    "                             ])\n",
    "\n",
    "dataset = {'train': torchvision.datasets.FashionMNIST('../data', train=True, download=True, transform=xforms),\n",
    "           'val' : torchvision.datasets.FashionMNIST('../data', train=False, download=True, transform=xforms) }"
   ]
  },
  {
   "cell_type": "code",
   "execution_count": 0,
   "metadata": {
    "colab": {},
    "colab_type": "code",
    "id": "I6AbjQDqA_i8"
   },
   "outputs": [],
   "source": [
    "def get_data_loader(batch_size):\n",
    "    data_loader = { tv: torch.utils.data.DataLoader(dataset[tv], batch_size=batch_size, shuffle=True)\n",
    "                   for tv in dataset.keys()}\n",
    "    return data_loader\n",
    "\n",
    "batch_size = 128\n",
    "data_loader = get_data_loader(batch_size)"
   ]
  },
  {
   "cell_type": "markdown",
   "metadata": {
    "colab_type": "text",
    "id": "J7Ljj8BYc34r"
   },
   "source": [
    "## Training Loop"
   ]
  },
  {
   "cell_type": "code",
   "execution_count": 0,
   "metadata": {
    "colab": {},
    "colab_type": "code",
    "id": "keiHqDBGc34s"
   },
   "outputs": [],
   "source": [
    "loss_fn = nn.CrossEntropyLoss()\n",
    "\n",
    "def training_loop(n_epochs, optim, model, loss_fn, dl_train, dl_val, hist=None, lr_scheduler=None):\n",
    "    if hist is not None:\n",
    "        pass\n",
    "    else:\n",
    "        hist = {'tloss': [], 'tacc': [], 'vloss': [], 'vacc': []}\n",
    "    #\n",
    "    if lr_scheduler is not None:\n",
    "        lr = []\n",
    "        \n",
    "    best_acc = 0\n",
    "    for epoch in range(1, n_epochs+1):\n",
    "        tr_loss, tr_acc = 0., 0.\n",
    "        n_data = 0\n",
    "        for im_batch, label_batch in dl_train: # minibatch\n",
    "            im_batch, label_batch = im_batch.to(device), label_batch.to(device)\n",
    "            ypred = model(im_batch)\n",
    "            loss_train = loss_fn(ypred, label_batch)\n",
    "        \n",
    "            optim.zero_grad()\n",
    "            loss_train.backward()\n",
    "            optim.step()\n",
    "            \n",
    "            # accumulate correct prediction\n",
    "            tr_acc  += (torch.argmax(ypred.detach(), dim=1) == label_batch).sum().item() # number of correct predictions\n",
    "            tr_loss += loss_train.item() * im_batch.shape[0]\n",
    "            n_data  += im_batch.shape[0]\n",
    "        # end mini-batch loop\n",
    "        \n",
    "        # statistics\n",
    "        tr_loss /= n_data\n",
    "        tr_acc  /= n_data\n",
    "        #\n",
    "        val_loss, val_acc = performance(model, loss_fn, dl_val)\n",
    "        \n",
    "        if epoch <= 5 or epoch % 10 == 0 or epoch == n_epochs:\n",
    "             print(f'Epoch {epoch}, tloss {tr_loss:.4f} t_acc: {tr_acc:.4f}  vloss {val_loss:.4f}  v_acc: {val_acc:.4f}')\n",
    "        \n",
    "        # best accuracy\n",
    "        if best_acc < val_acc:\n",
    "            best_acc = val_acc\n",
    "            print(f' >> best val accuracy updated: {best_acc} at epoch {epoch}.')\n",
    "        #\n",
    "        # record for history return\n",
    "        if hist is not None:\n",
    "            hist['tloss'].append(tr_loss)\n",
    "            hist['vloss'].append(val_loss) \n",
    "            hist['tacc'].append(tr_acc)\n",
    "            hist['vacc'].append(val_acc)\n",
    "            \n",
    "        if lr_scheduler is not None:\n",
    "            lr.append(lr_scheduler.get_last_lr()) # the lr used in optim.\n",
    "            lr_scheduler.step()\n",
    "        # end epoch-loop\n",
    "        \n",
    "    if lr_scheduler is not None:\n",
    "        hist['lr'] = lr\n",
    "        \n",
    "    print ('finished training_loop().')\n",
    "    return hist\n",
    "#\n",
    "\n",
    "def performance(model, loss_fn, dataloader):\n",
    "    model.eval()\n",
    "    with torch.no_grad():\n",
    "        loss, acc, n = 0., 0., 0.\n",
    "        for x, y in dataloader:\n",
    "            x, y = x.to(device), y.to(device)\n",
    "            ypred = model(x)\n",
    "            loss += loss_fn(ypred, y).item() * len(y)\n",
    "            p = torch.argmax(ypred, dim=1)\n",
    "            acc += (p == y).sum().item()\n",
    "            n += len(y)\n",
    "        #\n",
    "    loss /= n\n",
    "    acc /= n\n",
    "    return loss, acc\n",
    "#\n",
    "def plot_history(history):\n",
    "    fig, axes = plt.subplots(1,2, figsize=(16,6))\n",
    "    axes[0].set_title('Loss'); \n",
    "    axes[0].plot(history['tloss'], label='train'); axes[0].plot(history['vloss'], label='val')\n",
    "    axes[0].legend()\n",
    "    max_vacc = max(history['vacc'])\n",
    "    axes[1].set_title(f'Acc. vbest: {max_vacc:.2f}')\n",
    "    axes[1].plot(history['tacc'], label='train'); axes[1].plot(history['vacc'], label='val')\n",
    "    axes[1].legend()\n",
    "#"
   ]
  },
  {
   "cell_type": "markdown",
   "metadata": {
    "colab_type": "text",
    "id": "-tj5ZbRxc34f"
   },
   "source": [
    "## Model with Three Linear Blocks"
   ]
  },
  {
   "cell_type": "code",
   "execution_count": 0,
   "metadata": {
    "colab": {},
    "colab_type": "code",
    "id": "HBkrgNDSc34g"
   },
   "outputs": [],
   "source": [
    "class Reshape(torch.nn.Module):\n",
    "    def forward(self, x):\n",
    "        return x.view(-1, 784) # (Batch, Features)"
   ]
  },
  {
   "cell_type": "code",
   "execution_count": 0,
   "metadata": {
    "colab": {},
    "colab_type": "code",
    "id": "_nFjn9keelpN"
   },
   "outputs": [],
   "source": [
    "class LinearBlock(nn.Module):\n",
    "    def __init__(self, in_features, out_features, shortcut = False):\n",
    "        super().__init__()\n",
    "        \n",
    "        self.Linear = nn.Linear(in_features = in_features, out_features = out_features)\n",
    "        self.BatchNorm = nn.BatchNorm1d(out_features)\n",
    "        self.ELU = nn.ELU()\n",
    "\n",
    "    def forward(self, x):\n",
    "        x = self.Linear(x)\n",
    "        x = self.BatchNorm(x)\n",
    "        x = self.ELU(x)\n",
    "\n",
    "        return x\n",
    "\n",
    "\n",
    "class LinearModel(nn.Module):\n",
    "    def __init__(self, n_features, n_target):\n",
    "        super().__init__()\n",
    "        self.Reshape = Reshape()\n",
    "        self.Hidden_1 = LinearBlock(n_features, n_features//2 )  \n",
    "        self.Hidden_2 = LinearBlock(n_features//2, n_features//4) \n",
    "        self.Hidden_3 = LinearBlock(n_features//4, n_features//8) \n",
    "        self.Linear = nn.Linear(n_features//8, n_target)\n",
    "        self.activation = nn.LogSoftmax(dim = 1)\n",
    "\n",
    "    def forward(self, input):\n",
    "        x = self.Reshape(input)\n",
    "        x = self.Hidden_1(x)\n",
    "        x = self.Hidden_2(x)\n",
    "        x = self.Hidden_3(x)\n",
    "        x = self.Linear(x)\n",
    "        x = self.activation(x)\n",
    "\n",
    "        return x"
   ]
  },
  {
   "cell_type": "code",
   "execution_count": 0,
   "metadata": {
    "colab": {},
    "colab_type": "code",
    "id": "puyJdARYfyyq"
   },
   "outputs": [],
   "source": [
    "n_features = 28*28\n",
    "n_targets = 10"
   ]
  },
  {
   "cell_type": "code",
   "execution_count": 54,
   "metadata": {
    "colab": {
     "base_uri": "https://localhost:8080/",
     "height": 377
    },
    "colab_type": "code",
    "id": "WA--bA6bg2O7",
    "outputId": "a9bc5774-d4df-423c-a333-e11e52094f88"
   },
   "outputs": [
    {
     "data": {
      "text/plain": [
       "LinearModel(\n",
       "  (Reshape): Reshape()\n",
       "  (Hidden_1): LinearBlock(\n",
       "    (Linear): Linear(in_features=784, out_features=392, bias=True)\n",
       "    (BatchNorm): BatchNorm1d(392, eps=1e-05, momentum=0.1, affine=True, track_running_stats=True)\n",
       "    (ELU): ELU(alpha=1.0)\n",
       "  )\n",
       "  (Hidden_2): LinearBlock(\n",
       "    (Linear): Linear(in_features=392, out_features=196, bias=True)\n",
       "    (BatchNorm): BatchNorm1d(196, eps=1e-05, momentum=0.1, affine=True, track_running_stats=True)\n",
       "    (ELU): ELU(alpha=1.0)\n",
       "  )\n",
       "  (Hidden_3): LinearBlock(\n",
       "    (Linear): Linear(in_features=196, out_features=98, bias=True)\n",
       "    (BatchNorm): BatchNorm1d(98, eps=1e-05, momentum=0.1, affine=True, track_running_stats=True)\n",
       "    (ELU): ELU(alpha=1.0)\n",
       "  )\n",
       "  (Linear): Linear(in_features=98, out_features=10, bias=True)\n",
       "  (activation): LogSoftmax()\n",
       ")"
      ]
     },
     "execution_count": 54,
     "metadata": {
      "tags": []
     },
     "output_type": "execute_result"
    }
   ],
   "source": [
    "model = LinearModel(n_features, n_targets,)\n",
    "model"
   ]
  },
  {
   "cell_type": "markdown",
   "metadata": {
    "colab_type": "text",
    "id": "6joAVuqLc346"
   },
   "source": [
    "## Train Setting"
   ]
  },
  {
   "cell_type": "code",
   "execution_count": 0,
   "metadata": {
    "colab": {},
    "colab_type": "code",
    "id": "9a1nqnObc347"
   },
   "outputs": [],
   "source": [
    "model = LinearModel(n_features, n_targets).to(device)\n",
    "\n",
    "learning_rate = 0.1\n",
    "optimizer = torch.optim.Adam(model.parameters(), lr=learning_rate)\n",
    "stepLR = torch.optim.lr_scheduler.StepLR(optimizer, step_size=1, gamma=0.9)\n",
    "\n",
    "criterion = torch.nn.CrossEntropyLoss().to(device)\n",
    "history = None"
   ]
  },
  {
   "cell_type": "markdown",
   "metadata": {
    "colab_type": "text",
    "id": "nOrVixAjj57v"
   },
   "source": [
    "## Training"
   ]
  },
  {
   "cell_type": "code",
   "execution_count": 61,
   "metadata": {
    "colab": {
     "base_uri": "https://localhost:8080/",
     "height": 449
    },
    "colab_type": "code",
    "id": "bHUZDBw_virn",
    "outputId": "d58ea830-bc50-4229-959d-cb67fb497809"
   },
   "outputs": [
    {
     "name": "stdout",
     "output_type": "stream",
     "text": [
      "Epoch 1, tloss 0.6085 t_acc: 0.7779  vloss 0.5079  v_acc: 0.8189\n",
      " >> best val accuracy updated: 0.8189 at epoch 1.\n",
      "Epoch 2, tloss 0.4276 t_acc: 0.8450  vloss 0.5098  v_acc: 0.8277\n",
      " >> best val accuracy updated: 0.8277 at epoch 2.\n",
      "Epoch 3, tloss 0.3860 t_acc: 0.8613  vloss 0.4431  v_acc: 0.8422\n",
      " >> best val accuracy updated: 0.8422 at epoch 3.\n",
      "Epoch 4, tloss 0.3558 t_acc: 0.8714  vloss 0.3795  v_acc: 0.8642\n",
      " >> best val accuracy updated: 0.8642 at epoch 4.\n",
      "Epoch 5, tloss 0.3280 t_acc: 0.8810  vloss 0.3824  v_acc: 0.8651\n",
      " >> best val accuracy updated: 0.8651 at epoch 5.\n",
      " >> best val accuracy updated: 0.8673 at epoch 6.\n",
      " >> best val accuracy updated: 0.8683 at epoch 8.\n",
      " >> best val accuracy updated: 0.8816 at epoch 9.\n",
      "Epoch 10, tloss 0.2509 t_acc: 0.9049  vloss 0.3472  v_acc: 0.8841\n",
      " >> best val accuracy updated: 0.8841 at epoch 10.\n",
      " >> best val accuracy updated: 0.8895 at epoch 14.\n",
      " >> best val accuracy updated: 0.8911 at epoch 15.\n",
      " >> best val accuracy updated: 0.8946 at epoch 18.\n",
      "Epoch 20, tloss 0.1443 t_acc: 0.9453  vloss 0.3964  v_acc: 0.8925\n",
      "Epoch 30, tloss 0.0734 t_acc: 0.9720  vloss 0.7044  v_acc: 0.8911\n",
      "Epoch 40, tloss 0.0380 t_acc: 0.9860  vloss 1.1684  v_acc: 0.8916\n",
      "finished training_loop().\n",
      "CPU times: user 3min 34s, sys: 1.55 s, total: 3min 35s\n",
      "Wall time: 3min 36s\n"
     ]
    }
   ],
   "source": [
    "%%time\n",
    "history = training_loop(40, optimizer, model, criterion, data_loader['train'], data_loader['val'], history, stepLR )"
   ]
  },
  {
   "cell_type": "code",
   "execution_count": 62,
   "metadata": {
    "colab": {
     "base_uri": "https://localhost:8080/",
     "height": 386
    },
    "colab_type": "code",
    "id": "CrY9koFe2CLn",
    "outputId": "ee118692-1613-4bc1-b64a-3457c906bbd5"
   },
   "outputs": [
    {
     "data": {
      "image/png": "[encoded data removed]",
      "text/plain": [
       "<Figure size 1152x432 with 2 Axes>"
      ]
     },
     "metadata": {
      "needs_background": "light",
      "tags": []
     },
     "output_type": "display_data"
    }
   ],
   "source": [
    "plot_history(history)"
   ]
  },
  {
   "cell_type": "code",
   "execution_count": 63,
   "metadata": {
    "colab": {
     "base_uri": "https://localhost:8080/",
     "height": 280
    },
    "colab_type": "code",
    "id": "JImHAIDwc36M",
    "outputId": "ce653804-25a9-48f4-bc95-d2810187d955"
   },
   "outputs": [
    {
     "data": {
      "text/plain": [
       "[<matplotlib.lines.Line2D at 0x7fc0dedb4eb8>]"
      ]
     },
     "execution_count": 63,
     "metadata": {
      "tags": []
     },
     "output_type": "execute_result"
    },
    {
     "data": {
      "image/png": "[encoded data removed]",
      "text/plain": [
       "<Figure size 432x288 with 1 Axes>"
      ]
     },
     "metadata": {
      "needs_background": "light",
      "tags": []
     },
     "output_type": "display_data"
    }
   ],
   "source": [
    "plt.plot(history['lr'], '-o')"
   ]
  },
  {
   "cell_type": "markdown",
   "metadata": {
    "colab_type": "text",
    "id": "vvjU2zrNc36c"
   },
   "source": [
    "End."
   ]
  }
 ],
 "metadata": {
  "accelerator": "GPU",
  "colab": {
   "collapsed_sections": [],
   "name": "hw6_천연정_20160652_(1)",
   "provenance": []
  },
  "kernelspec": {
   "display_name": "Python 3",
   "language": "python",
   "name": "python3"
  },
  "language_info": {
   "codemirror_mode": {
    "name": "ipython",
    "version": 3
   },
   "file_extension": ".py",
   "mimetype": "text/x-python",
   "name": "python",
   "nbconvert_exporter": "python",
   "pygments_lexer": "ipython3",
   "version": "3.8.3"
  },
  "toc": {
   "base_numbering": 1,
   "nav_menu": {},
   "number_sections": true,
   "sideBar": true,
   "skip_h1_title": false,
   "title_cell": "Table of Contents",
   "title_sidebar": "Contents",
   "toc_cell": false,
   "toc_position": {},
   "toc_section_display": true,
   "toc_window_display": false
  }
 },
 "nbformat": 4,
 "nbformat_minor": 1
}
