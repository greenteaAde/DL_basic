{
 "cells": [
  {
   "cell_type": "markdown",
   "metadata": {},
   "source": [
    "# Overfitting\n",
    "&nbsp; 과적합문제는 머신러닝이 직면한 가장 큰 문제 중 하나이다. 과적합이란 모형이 학습 데이터에만 적합하게 학습되어 학습 데이터 외의 다른 데이터가 들어오면 제대로 예측을 하지 못하는 현상을 말한다.\n",
    "\n",
    "\n",
    "![image1](https://blogfiles.pstatic.net/MjAyMDAzMTdfMTUz/MDAxNTg0NDI2ODc2ODgz.OnEdxmvSfRaf_3erWvqBiKUCydGSNOkoF8x_SbQlX_sg.8rPsnM70Ov-jlOoE9WbQwPWSz1IsWbGVb3N1MnK3SD0g.JPEG.mint_vkkk/4.JPG?type=w2)\n",
    "\n",
    "&nbsp; 위 그림의 가운데 그래프는 학습하고자 하는 모델의 가중치를 잘 찾 찾은 예시이다. Underfit 된 모형은 학습이 덜 된 모형을 말한다. 즉, 모형이 학습에 사용된 데이터조차 잘 설명하지 못한다고 볼 수 있다. 이와 반대로 Overfit된 모형은 학습에 사용된 데이터에 대해 학습을 너무 많이한 모형을 말한다. 이 경우 새로운 데이터가 주어질때 이를 적절히 평가하지 못하는 문제가 발생한다. 즉, overffing된 모형은 일반화가 안 된 모형이라고 할 수 있다. \n",
    "\n",
    "\n",
    "![image2](https://blogfiles.pstatic.net/MjAyMDAzMTdfNTIg/MDAxNTg0NDMzNjYxNjg3.zt58BaQCTmPg99-QjLHEjC2W2hgi4c-VNpLQHBs34_kg.Z_Na5dK7idqCheWlh1DxHHDIya5DsclxsoOsX1r7R8wg.JPEG.mint_vkkk/6.JPG?type=w2)\n",
    "\n",
    "&nbsp; 위 그림은 학습이 진행될수록 모형의 정확도가 어떻게 변하는지를 설명한다. 일정 학습 수가 넘어가면 Test 데이터에 대한 정확도가 떨어짐을 볼 수 있다. 따라서 적절한 학습 수를 설정하는 것도 좋은 모델을 만들기 위해 중요한 요소라고 할 수 있다.\n",
    "\n",
    "\n",
    "&nbsp; `Note 2. Linear Regression`에서는 잘 학습된 선형회귀모형을 볼 수 있었다. 이 노트에서는 학습을 더 시켜 Overfitting된 모형을 만들어 볼 것이다.\n",
    "\n",
    "\n"
   ]
  },
  {
   "cell_type": "code",
   "execution_count": 1,
   "metadata": {
    "colab": {},
    "colab_type": "code",
    "id": "1N9aKM0H2__v"
   },
   "outputs": [],
   "source": [
    "import numpy as np\n",
    "import matplotlib.pyplot as plt\n",
    "import torch\n",
    "import torch.optim as optim\n",
    "import torch.nn as nn\n",
    "\n",
    "np.random.seed(123457)\n",
    "\n",
    "%matplotlib inline\n",
    "plt.style.use('seaborn-whitegrid')\n",
    "torch.set_printoptions(edgeitems=2)"
   ]
  },
  {
   "cell_type": "code",
   "execution_count": 2,
   "metadata": {
    "colab": {},
    "colab_type": "code",
    "id": "ebJN7N7g3iVO"
   },
   "outputs": [],
   "source": [
    "# data\n",
    "t_c = torch.tensor([0.5, 14.0, 15.0, 28.0, 11.0, 8.0, 3.0, -4.0, 6.0, 13.0, 21.0]).unsqueeze(1)\n",
    "t_u = torch.tensor([35.7, 55.9, 58.2, 81.9, 56.3, 48.9, 33.9, 21.8, 48.4, 60.4, 68.4]).unsqueeze(1)"
   ]
  },
  {
   "cell_type": "markdown",
   "metadata": {},
   "source": [
    "## Train_Validation Split"
   ]
  },
  {
   "cell_type": "code",
   "execution_count": 3,
   "metadata": {},
   "outputs": [
    {
     "data": {
      "text/plain": [
       "(tensor([ 3,  8,  1, 10,  0,  7,  9,  6,  2]), tensor([5, 4]))"
      ]
     },
     "execution_count": 3,
     "metadata": {},
     "output_type": "execute_result"
    }
   ],
   "source": [
    "n_samples = t_u.shape[0]\n",
    "n_val = int(0.2 * n_samples)\n",
    "\n",
    "shuffled_indices = torch.randperm(n_samples)\n",
    "\n",
    "train_indices = shuffled_indices[:-n_val]\n",
    "val_indices = shuffled_indices[-n_val:]\n",
    "\n",
    "train_indices, val_indices"
   ]
  },
  {
   "cell_type": "code",
   "execution_count": 4,
   "metadata": {},
   "outputs": [],
   "source": [
    "t_u_train = t_u[train_indices]\n",
    "t_c_train = t_c[train_indices]\n",
    "\n",
    "t_u_val = t_u[val_indices]\n",
    "t_c_val = t_c[val_indices]\n",
    "\n",
    "t_un_train = 0.1 * t_u_train\n",
    "t_un_val = 0.1 * t_u_val"
   ]
  },
  {
   "cell_type": "code",
   "execution_count": 5,
   "metadata": {},
   "outputs": [
    {
     "name": "stdout",
     "output_type": "stream",
     "text": [
      "torch.Size([9, 1]) torch.Size([2, 1])\n"
     ]
    }
   ],
   "source": [
    "print(t_un_train.shape, t_un_val.shape)"
   ]
  },
  {
   "cell_type": "markdown",
   "metadata": {
    "colab_type": "text",
    "id": "crk2xNcOd3pn"
   },
   "source": [
    "## Define training_loop Functions"
   ]
  },
  {
   "cell_type": "code",
   "execution_count": 6,
   "metadata": {
    "colab": {},
    "colab_type": "code",
    "id": "ciX2RSD42Rql"
   },
   "outputs": [],
   "source": [
    "# training function\n",
    "\n",
    "def training_loop(n_epochs, optimizer, model, loss_fn, t_u_train, t_u_val, t_c_train, t_c_val):\n",
    "    history = {'train': [], 'val': []}\n",
    "    \n",
    "    for epoch in range(1, n_epochs + 1):\n",
    "        t_p_train = model(t_u_train) # <1>\n",
    "        loss_train = loss_fn(t_p_train, t_c_train)\n",
    "\n",
    "        with torch.no_grad():\n",
    "            t_p_val = model(t_u_val) # <1>\n",
    "            loss_val = loss_fn(t_p_val, t_c_val)\n",
    "        \n",
    "        optimizer.zero_grad()\n",
    "        loss_train.backward() # <2>\n",
    "        optimizer.step()\n",
    "\n",
    "        if epoch == 1 or epoch % 1000 == 0:\n",
    "            print(f'Epoch {epoch:5d}, Training loss {float(loss_train):5f}, Validation loss {float(loss_val):5f}')\n",
    "\n",
    "        history['train'].append(loss_train.item())\n",
    "        history['val'].append(loss_val.item())\n",
    "    #\n",
    "    return history"
   ]
  },
  {
   "cell_type": "markdown",
   "metadata": {},
   "source": [
    "## Define Model"
   ]
  },
  {
   "cell_type": "code",
   "execution_count": 7,
   "metadata": {},
   "outputs": [],
   "source": [
    "class LinearTanh(nn.Module):\n",
    "    def __init__(self, input_features, output_features):\n",
    "        super().__init__()\n",
    "            \n",
    "        self.linear = nn.Linear(input_features, output_features)\n",
    "        self.tanh = nn.Tanh()\n",
    "        \n",
    "    def forward(self, layer_input):\n",
    "        layer_linear = self.linear(layer_input)\n",
    "        layer_output = self.tanh(layer_linear)\n",
    "        return layer_output"
   ]
  },
  {
   "cell_type": "code",
   "execution_count": 8,
   "metadata": {},
   "outputs": [],
   "source": [
    "class SubclassModel(nn.Module):\n",
    "    def __init__(self):\n",
    "        super().__init__()\n",
    "        \n",
    "        self.Hidden_1 = LinearTanh(1, 11)\n",
    "        self.Hidden_2 = LinearTanh(11, 21)\n",
    "        self.Hidden_3 = LinearTanh(21, 31)\n",
    "        self.Hidden_4 = LinearTanh(31, 41)\n",
    "        self.Hidden_5 = LinearTanh(41, 51)\n",
    "        self.Output = nn.Linear(51, 1)\n",
    "        \n",
    "    def forward(self, input):\n",
    "        Hidden_1 = self.Hidden_1(input)\n",
    "        Hidden_2 = self.Hidden_2(Hidden_1)\n",
    "        Hidden_3 = self.Hidden_3(Hidden_2)\n",
    "        Hidden_4 = self.Hidden_4(Hidden_3)\n",
    "        Hidden_5 = self.Hidden_5(Hidden_4)\n",
    "        Output = self.Output(Hidden_5)\n",
    "        \n",
    "        return Output"
   ]
  },
  {
   "cell_type": "code",
   "execution_count": 9,
   "metadata": {},
   "outputs": [
    {
     "data": {
      "text/plain": [
       "SubclassModel(\n",
       "  (Hidden_1): LinearTanh(\n",
       "    (linear): Linear(in_features=1, out_features=11, bias=True)\n",
       "    (tanh): Tanh()\n",
       "  )\n",
       "  (Hidden_2): LinearTanh(\n",
       "    (linear): Linear(in_features=11, out_features=21, bias=True)\n",
       "    (tanh): Tanh()\n",
       "  )\n",
       "  (Hidden_3): LinearTanh(\n",
       "    (linear): Linear(in_features=21, out_features=31, bias=True)\n",
       "    (tanh): Tanh()\n",
       "  )\n",
       "  (Hidden_4): LinearTanh(\n",
       "    (linear): Linear(in_features=31, out_features=41, bias=True)\n",
       "    (tanh): Tanh()\n",
       "  )\n",
       "  (Hidden_5): LinearTanh(\n",
       "    (linear): Linear(in_features=41, out_features=51, bias=True)\n",
       "    (tanh): Tanh()\n",
       "  )\n",
       "  (Output): Linear(in_features=51, out_features=1, bias=True)\n",
       ")"
      ]
     },
     "execution_count": 9,
     "metadata": {},
     "output_type": "execute_result"
    }
   ],
   "source": [
    "myModel = SubclassModel()\n",
    "myModel"
   ]
  },
  {
   "cell_type": "markdown",
   "metadata": {
    "colab_type": "text",
    "id": "Efxzcp5m45ca"
   },
   "source": [
    "## Trainig & Plotting"
   ]
  },
  {
   "cell_type": "code",
   "execution_count": 10,
   "metadata": {
    "scrolled": true
   },
   "outputs": [
    {
     "name": "stdout",
     "output_type": "stream",
     "text": [
      "Epoch     1, Training loss 211.541016, Validation loss 95.234596\n",
      "Epoch  1000, Training loss 98.204659, Validation loss 3.161988\n",
      "Epoch  2000, Training loss 93.526283, Validation loss 3.128633\n",
      "Epoch  3000, Training loss 38.352383, Validation loss 3.223149\n",
      "Epoch  4000, Training loss 15.752470, Validation loss 3.707956\n",
      "Epoch  5000, Training loss 6.740075, Validation loss 1.741871\n",
      "Epoch  6000, Training loss 3.246992, Validation loss 2.358732\n",
      "Epoch  7000, Training loss 1.257250, Validation loss 5.005960\n",
      "Epoch  8000, Training loss 0.806394, Validation loss 5.241268\n",
      "Epoch  9000, Training loss 0.604093, Validation loss 4.852153\n",
      "Epoch 10000, Training loss 0.565214, Validation loss 4.745380\n",
      "Epoch 11000, Training loss 0.508493, Validation loss 4.712446\n",
      "Epoch 12000, Training loss 0.372076, Validation loss 4.739616\n",
      "Epoch 13000, Training loss 0.284291, Validation loss 4.747952\n",
      "Epoch 14000, Training loss 0.222962, Validation loss 5.070446\n",
      "Epoch 15000, Training loss 0.028701, Validation loss 7.279340\n"
     ]
    }
   ],
   "source": [
    "optimizer = optim.Adam(myModel.parameters(), lr=1e-4)\n",
    "loss = nn.MSELoss()\n",
    "\n",
    "hist = training_loop(n_epochs = 15000, \n",
    "                     optimizer = optimizer,\n",
    "                     model = myModel,\n",
    "                     loss_fn = loss,\n",
    "                     t_u_train = t_un_train,\n",
    "                     t_u_val = t_un_val, \n",
    "                     t_c_train = t_c_train,\n",
    "                     t_c_val = t_c_val)"
   ]
  },
  {
   "cell_type": "code",
   "execution_count": 16,
   "metadata": {
    "scrolled": false
   },
   "outputs": [
    {
     "data": {
      "text/plain": [
       "<matplotlib.legend.Legend at 0x2498ae76d8>"
      ]
     },
     "execution_count": 16,
     "metadata": {},
     "output_type": "execute_result"
    },
    {
     "data": {
      "image/png": "[encoded data removed]",
      "text/plain": [
       "<Figure size 432x288 with 1 Axes>"
      ]
     },
     "metadata": {},
     "output_type": "display_data"
    }
   ],
   "source": [
    "plt.plot(hist['train'], label='train')\n",
    "plt.plot(hist['val'], label='val')\n",
    "plt.legend()"
   ]
  },
  {
   "cell_type": "markdown",
   "metadata": {},
   "source": [
    " validation loss가 14000 epoch 이후 증가하는 것이 보인다."
   ]
  },
  {
   "cell_type": "code",
   "execution_count": 17,
   "metadata": {},
   "outputs": [],
   "source": [
    "def plot_result():\n",
    "    t_range = torch.arange(20., 90.).unsqueeze(1)\n",
    "    \n",
    "    plt.plot(t_u_val.numpy(), t_c_val.numpy(), 'o', label='data: tr+val')\n",
    "    plt.plot(t_u_train.numpy(), t_c_train.numpy(), 'go', label='data: train')\n",
    "    plt.plot(t_range.numpy(), myModel(0.1 * t_range).detach().numpy(), 'c-', label='prediction')\n",
    "    plt.plot(t_u_train.numpy(), myModel(t_un_train).detach().numpy(), 'kx')\n",
    "    plt.plot(t_u_val.numpy(), myModel(t_un_val).detach().numpy(), 'rx', label='validation')\n",
    "    plt.xlabel(\"Fahrenheit\")\n",
    "    plt.ylabel(\"Celsius\")\n",
    "    \n",
    "    plt.legend()"
   ]
  },
  {
   "cell_type": "code",
   "execution_count": 18,
   "metadata": {},
   "outputs": [
    {
     "data": {
      "image/png": "[encoded data removed]",
      "text/plain": [
       "<Figure size 432x288 with 1 Axes>"
      ]
     },
     "metadata": {},
     "output_type": "display_data"
    }
   ],
   "source": [
    "plot_result()"
   ]
  },
  {
   "cell_type": "markdown",
   "metadata": {},
   "source": [
    "## Accessing to Weights and Bias"
   ]
  },
  {
   "cell_type": "code",
   "execution_count": 14,
   "metadata": {
    "colab": {},
    "colab_type": "code",
    "id": "8Scf1szW8eZ3",
    "scrolled": false
   },
   "outputs": [
    {
     "name": "stdout",
     "output_type": "stream",
     "text": [
      "Hidden_1.linear.weight torch.Size([11, 1])\n",
      "Hidden_1.linear.bias torch.Size([11])\n",
      "Hidden_2.linear.weight torch.Size([21, 11])\n",
      "Hidden_2.linear.bias torch.Size([21])\n",
      "Hidden_3.linear.weight torch.Size([31, 21])\n",
      "Hidden_3.linear.bias torch.Size([31])\n",
      "Hidden_4.linear.weight torch.Size([41, 31])\n",
      "Hidden_4.linear.bias torch.Size([41])\n",
      "Hidden_5.linear.weight torch.Size([51, 41])\n",
      "Hidden_5.linear.bias torch.Size([51])\n",
      "Output.weight torch.Size([1, 51])\n",
      "Output.bias torch.Size([1])\n"
     ]
    }
   ],
   "source": [
    "for name, param in myModel.named_parameters():\n",
    "    print(name, param.shape)"
   ]
  },
  {
   "cell_type": "code",
   "execution_count": 15,
   "metadata": {
    "scrolled": true
   },
   "outputs": [
    {
     "name": "stdout",
     "output_type": "stream",
     "text": [
      "Weight : Parameter containing:\n",
      "tensor([[-0.5315, -0.5369, -0.5659, -0.6129, -0.5550,  0.6183, -0.5697,  0.5037,\n",
      "          0.6448, -0.9983, -0.5619,  0.5731, -0.6797, -0.5508,  0.5916, -0.6398,\n",
      "          0.6876,  0.5324, -0.6298,  0.6126,  0.4861, -0.5966,  0.5971, -0.4993,\n",
      "          0.5674, -0.5373,  0.5819,  0.6482,  0.6392,  0.6115, -0.6071, -0.5924,\n",
      "         -0.5477, -0.5871, -0.5117,  0.5412,  0.6684,  0.6258,  0.5030,  0.5897,\n",
      "         -0.5858, -0.4980, -0.5213,  0.7415,  0.6723,  0.5760, -0.6594, -0.6045,\n",
      "          0.5581, -0.6198, -0.5877]], requires_grad=True)\n",
      "Bias : Parameter containing:\n",
      "tensor([0.4663], requires_grad=True)\n"
     ]
    }
   ],
   "source": [
    "print(f'Weight : {myModel.Output.weight}')\n",
    "print(f'Bias : {myModel.Output.bias}')"
   ]
  },
  {
   "cell_type": "code",
   "execution_count": null,
   "metadata": {},
   "outputs": [],
   "source": []
  }
 ],
 "metadata": {
  "colab": {
   "collapsed_sections": [],
   "name": "hw3_천연정",
   "provenance": []
  },
  "kernelspec": {
   "display_name": "Python 3",
   "language": "python",
   "name": "python3"
  },
  "language_info": {
   "codemirror_mode": {
    "name": "ipython",
    "version": 3
   },
   "file_extension": ".py",
   "mimetype": "text/x-python",
   "name": "python",
   "nbconvert_exporter": "python",
   "pygments_lexer": "ipython3",
   "version": "3.8.3"
  },
  "toc": {
   "base_numbering": 1,
   "nav_menu": {},
   "number_sections": true,
   "sideBar": true,
   "skip_h1_title": false,
   "title_cell": "Table of Contents",
   "title_sidebar": "Contents",
   "toc_cell": false,
   "toc_position": {},
   "toc_section_display": true,
   "toc_window_display": false
  }
 },
 "nbformat": 4,
 "nbformat_minor": 1
}
