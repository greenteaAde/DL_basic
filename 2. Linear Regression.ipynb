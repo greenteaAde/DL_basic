{
 "cells": [
  {
   "cell_type": "markdown",
   "metadata": {
    "colab_type": "text",
    "id": "HZsv3tZzk8O_"
   },
   "source": [
    "# Simple Linear Regression\n",
    "\n",
    "&nbsp; Regression은 ‘Regression toward the mean’의 약자이며 이를 해석하면 ‘평균으로 돌아감’을 의미한다. 따라서 회귀모형이라 함은 데이터의 대푯값을 가장 잘 설명하는 모형을 말하는 것이다. \n",
    "\n",
    "&nbsp; 데이터의 대푯값을 잘 설명하는 모형이란, 종속변수와 설명변수의 관계를 적절히 설명하는 계수(기울기)와 상수(절편)를 갖고 있는 모형을 뜻한다."
   ]
  },
  {
   "cell_type": "code",
   "execution_count": 0,
   "metadata": {
    "colab": {},
    "colab_type": "code",
    "id": "rkunZGA3OLT8",
    "pycharm": {
     "is_executing": false
    }
   },
   "outputs": [],
   "source": [
    "%matplotlib inline\n",
    "import matplotlib.pyplot as plt\n",
    "plt.style.use('seaborn-whitegrid')\n",
    "import numpy as np\n",
    "import torch\n",
    "\n",
    "# Set options for printing.\n",
    "# edgeitems : number of array items in summary at beginning and end of each dimension\n",
    "torch.set_printoptions(edgeitems=2)"
   ]
  },
  {
   "cell_type": "markdown",
   "metadata": {},
   "source": [
    "## Example Data for SLR"
   ]
  },
  {
   "cell_type": "code",
   "execution_count": 21,
   "metadata": {
    "colab": {
     "base_uri": "https://localhost:8080/",
     "height": 35
    },
    "colab_type": "code",
    "id": "X7cbrPicOLUl",
    "outputId": "fbfab6cf-2500-4d03-df68-bbeb8c240e36",
    "pycharm": {
     "is_executing": false
    }
   },
   "outputs": [
    {
     "data": {
      "text/plain": [
       "torch.Size([11])"
      ]
     },
     "execution_count": 21,
     "metadata": {
      "tags": []
     },
     "output_type": "execute_result"
    }
   ],
   "source": [
    "t_c = [0.5,  14.0, 15.0, 28.0, 11.0,  8.0,  3.0, -4.0,  6.0, 13.0, 21.0]\n",
    "t_u = [35.7, 55.9, 58.2, 81.9, 56.3, 48.9, 33.9, 21.8, 48.4, 60.4, 68.4]\n",
    "t_c = torch.tensor(t_c)\n",
    "t_u = torch.tensor(t_u)\n",
    "t_un = 0.1 * t_u   # normalization\n",
    "t_u.shape"
   ]
  },
  {
   "cell_type": "code",
   "execution_count": 4,
   "metadata": {
    "colab": {
     "base_uri": "https://localhost:8080/",
     "height": 291
    },
    "colab_type": "code",
    "id": "Gf5TtV6UOLU9",
    "outputId": "9da7a3e2-60f8-4277-d0b5-672f8550795e",
    "scrolled": true
   },
   "outputs": [
    {
     "data": {
      "image/png": "[encoded data removed]",
      "text/plain": [
       "<Figure size 432x288 with 1 Axes>"
      ]
     },
     "metadata": {
      "tags": []
     },
     "output_type": "display_data"
    }
   ],
   "source": [
    "plt.plot(t_u, t_c, 'o',label = 'training data')\n",
    "plt.xlabel('measurements')\n",
    "plt.ylabel('temperature in C');\n",
    "plt.title(f'temperature vs measurement')\n",
    "plt.legend();"
   ]
  },
  {
   "cell_type": "markdown",
   "metadata": {},
   "source": [
    "## Model and Loss Function\n",
    "\n",
    "\n",
    "![image1](https://blogfiles.pstatic.net/MjAyMDAzMTNfMjkw/MDAxNTg0MDg2MjUwNjYz.1BrUslY3gAiAkix0527FyPsfEm5Z72u6romMKdV2qhog.IUe0cVQOHMFb5cZ4_4cw1OD_Z5u6TKQ6ZqgYYreB5wsg.JPEG.mint_vkkk/8.JPG?type=w2)\n",
    "\n",
    "&nbsp; 선형회귀모형의 식은 위과 같이 정의할 수 있다. `W`는 직선의 기울기, `b`는 직선의 절편이다. 가설, 즉 우리가 만든 모형을 뜻하는 `H(x)`는 데이터 `i`에 대하여 독립변수 `x`가 종속변수 `y`와 가지는 관계를 나타내는 선, 즉 선형회귀선이다. 그러나 예측값인 `H(x)`는 데이터의 실제 값인 `y`와 어느 정도 차이(error, loss, cost)를 갖게 되는데, 이 괴리를 계산하는 것이 바로 비용함수(cost function) 혹은 손실함수(loss function)이다. 비용함수는 다음과 같이 정의된다.\n",
    "\n",
    "\n",
    "![image2](https://blogfiles.pstatic.net/MjAyMDAzMTNfMjcg/MDAxNTg0MDg2MjgxMzIx.i9Xja-8R8ltWAqO-LkQXSQux04DeL6WqWuqo4YROZ8Yg.Le-1x0dC-rg4GNhgqWTMSfisBrD9resjYj2ti5evo4gg.JPEG.mint_vkkk/1.JPG?type=w2)\n",
    "\n",
    "&nbsp; 선형회귀선과 실제 값의 차이, 즉 오차는 평균이 `0`이고 표준편차가 `σ`인 정규분포로 가정되므로 이론적으로 이들의 합은 `0`이 된다. 따라서 비용함수를 계산할 때에는 오차를 제곱한 값을 합산하여 구하게 된다. 비용함수의 값이 작으면 작을수록 모형이 데이터를 더욱 잘 반영하는 것이 일반적이며, 따라서 비용함수를 최소화하는 과정이 머신러닝에서의 학습 방법이라고 정의될 수 있다."
   ]
  },
  {
   "cell_type": "code",
   "execution_count": 0,
   "metadata": {
    "colab": {},
    "colab_type": "code",
    "id": "TojTF56oOLV6",
    "pycharm": {
     "is_executing": false
    }
   },
   "outputs": [],
   "source": [
    "# set hypothesis as linear regression model\n",
    "def model(t_u, w, b):\n",
    "    return w * t_u + b\n",
    "\n",
    "\n",
    "# set loss function as mean squared error\n",
    "def loss_fn(t_p, t_c):\n",
    "    squared_diffs = (t_p - t_c)**2\n",
    "    res = squared_diffs.mean()\n",
    "    return res"
   ]
  },
  {
   "cell_type": "markdown",
   "metadata": {},
   "source": [
    "## Initial Weight\n",
    "&nbsp; 앞서 선형회귀모형이란 종속변수와 설명변수의 관계를 적절히 설명하는 기울기와 절편를 갖고 있는 모형이라고 말했다. 기울기와 절편을 통틀어 `가중치`라고 부른다. 임의로 설정된 모형의 초기 가중치에서부터 적절한 가중치로 수렴하도록 하는 학습함으로써 `cost`를 줄이게 된다."
   ]
  },
  {
   "cell_type": "code",
   "execution_count": 6,
   "metadata": {
    "colab": {
     "base_uri": "https://localhost:8080/",
     "height": 35
    },
    "colab_type": "code",
    "id": "Xe4xPlxCOLW0",
    "outputId": "6278d253-0221-49ee-abd7-4b7fea2471a9",
    "pycharm": {
     "is_executing": false
    }
   },
   "outputs": [
    {
     "name": "stdout",
     "output_type": "stream",
     "text": [
      "tensor(1) torch.Size([])\n"
     ]
    }
   ],
   "source": [
    "# set initial weight\n",
    "W = torch.tensor(1) #torch.ones(())\n",
    "b = torch.tensor(0) #torch.zeros(())\n",
    "print(W, W.shape)"
   ]
  },
  {
   "cell_type": "code",
   "execution_count": 7,
   "metadata": {
    "colab": {
     "base_uri": "https://localhost:8080/",
     "height": 107
    },
    "colab_type": "code",
    "id": "_4Yy3fFSRvZh",
    "outputId": "674994dd-167d-45cb-c7ee-28e2ae9852dd"
   },
   "outputs": [
    {
     "name": "stdout",
     "output_type": "stream",
     "text": [
      "tensor(1) tensor(0)\n",
      "tensor([35.7000, 55.9000, 58.2000, 81.9000, 56.3000, 48.9000, 33.9000, 21.8000,\n",
      "        48.4000, 60.4000, 68.4000])\n",
      "tensor([35.7000, 55.9000, 58.2000, 81.9000, 56.3000, 48.9000, 33.9000, 21.8000,\n",
      "        48.4000, 60.4000, 68.4000])\n"
     ]
    }
   ],
   "source": [
    "# Apply data to model with initial weight\n",
    "\n",
    "t_p = model(t_u, W, b)\n",
    "print(W, b)\n",
    "print(t_u)\n",
    "print(t_p)"
   ]
  },
  {
   "cell_type": "markdown",
   "metadata": {},
   "source": [
    "## Initial Model(with Initial Weight) "
   ]
  },
  {
   "cell_type": "code",
   "execution_count": 8,
   "metadata": {
    "colab": {
     "base_uri": "https://localhost:8080/",
     "height": 291
    },
    "colab_type": "code",
    "id": "MXxHxYBqVkZ_",
    "outputId": "e702c08c-11a0-442c-9ba6-c0051d1fc98d"
   },
   "outputs": [
    {
     "data": {
      "image/png": "[encoded data removed]",
      "text/plain": [
       "<Figure size 432x288 with 1 Axes>"
      ]
     },
     "metadata": {
      "tags": []
     },
     "output_type": "display_data"
    }
   ],
   "source": [
    "plt.plot(t_u, t_c, 'o', label = 'training data')\n",
    "plt.plot(t_u, t_p, label = 'prediction (initial model)')\n",
    "plt.xlabel('measurements')\n",
    "plt.ylabel('temperature in C');\n",
    "plt.title(f'temperature vs measurement')\n",
    "plt.legend();"
   ]
  },
  {
   "cell_type": "code",
   "execution_count": 9,
   "metadata": {
    "colab": {
     "base_uri": "https://localhost:8080/",
     "height": 35
    },
    "colab_type": "code",
    "id": "cLha21MrOLYE",
    "outputId": "41cff955-910f-4ff0-b96d-eb97b1cdeac4",
    "pycharm": {
     "is_executing": false
    }
   },
   "outputs": [
    {
     "data": {
      "text/plain": [
       "(tensor(1763.8846), 1763.8846435546875)"
      ]
     },
     "execution_count": 9,
     "metadata": {
      "tags": []
     },
     "output_type": "execute_result"
    }
   ],
   "source": [
    "# calculate loss\n",
    "\n",
    "loss = loss_fn(t_p, t_c)\n",
    "loss, loss.item()"
   ]
  },
  {
   "cell_type": "code",
   "execution_count": 10,
   "metadata": {
    "colab": {
     "base_uri": "https://localhost:8080/",
     "height": 89
    },
    "colab_type": "code",
    "id": "MeIoGzT_OLYW",
    "outputId": "02e04861-41d1-47df-d27f-21e5972bc83f",
    "pycharm": {
     "is_executing": false
    }
   },
   "outputs": [
    {
     "name": "stdout",
     "output_type": "stream",
     "text": [
      "shapes: x: torch.Size([]), y: torch.Size([3, 1]), z: torch.Size([1, 3]), a: torch.Size([2, 1, 1])\n",
      "x * y: torch.Size([3, 1])\n",
      "y * z: torch.Size([3, 3])\n",
      "y * z * a: torch.Size([2, 3, 3])\n"
     ]
    }
   ],
   "source": [
    "# tensor calculation examples\n",
    "x = torch.ones(())\n",
    "y = torch.ones(3,1)\n",
    "z = torch.ones(1,3)\n",
    "a = torch.ones(2, 1, 1)\n",
    "print(f\"shapes: x: {x.shape}, y: {y.shape}, z: {z.shape}, a: {a.shape}\")\n",
    "print(\"x * y:\", (x * y).shape)\n",
    "print(\"y * z:\", (y * z).shape)\n",
    "print(\"y * z * a:\", (y * z * a).shape)"
   ]
  },
  {
   "cell_type": "markdown",
   "metadata": {
    "colab_type": "text",
    "id": "zJzZZnDmOLYx"
   },
   "source": [
    "## Gradient Descent\n",
    "\n",
    "\n",
    "&nbsp;지금까지 비용함수를 최소화하는 것이 좋은 모형을 만드는 것임을 배웠다. 그렇다면 어떻게 비용함수를 최소화할 것인지가 그 다음 문제가 된다. 비용최소화를 위해서 컴퓨터는 경사하강법(Gradient descent)이라고 불리는, cost를 최소화하는 `W`와 `b`값을 찾는 알고리즘을 사용한다. 절편 `b`를 없앤 간소화된 선형회귀함수와 비용함수를 통해 Gradient Descent를 살펴보자.\n",
    "\n",
    "\n",
    "![image3](https://blogfiles.pstatic.net/MjAyMDAzMTNfMjAx/MDAxNTg0MDg1ODk1MzYx.Spcd-GtKH4-tGxt6IsywZWyhYe-mm2spHTGVqyI-qdgg.TbH6Me2EjUKFf3KJnCyKQB3NbvmVe25knnolkrcoSrog.JPEG.mint_vkkk/2.JPG?type=w2)\n",
    "![image4](https://blogfiles.pstatic.net/MjAyMDAzMTNfMjAx/MDAxNTg0MDg1ODk1MzYx.Spcd-GtKH4-tGxt6IsywZWyhYe-mm2spHTGVqyI-qdgg.TbH6Me2EjUKFf3KJnCyKQB3NbvmVe25knnolkrcoSrog.JPEG.mint_vkkk/2.JPG?type=w2)\n",
    "\n",
    "&nbsp; 간소화된 식에서는 `W`만이 비용함수의 값을 결정한다. `W`를 독립변수로 한 비용함수를 그래프로 나타내면 아래와 같이 나타난다.\n",
    "\n",
    "\n",
    "\n",
    "![image5](https://blogfiles.pstatic.net/MjAyMDAzMTNfMjgx/MDAxNTg0MDg1ODk2ODc3.3rspiG48RZmPVRzHakhLxVkKgBjQrz8779aA-A9egSIg.sHQsmG8ds5rntESk114_vAxoWRfy3ucHRtvj28lsFJwg.JPEG.mint_vkkk/3.JPG?type=w2)\n",
    "\n",
    "&nbsp;  비용이 최소화되는 지점은 바로 비용함수의 기울기가 제일 작은 지점이다. 비용함수의 기울기가 제일 작은 지점에 도달하기 위해 컴퓨터는 지속적으로 비용함수를 `W`에 대해 편미분한 값을 바탕으로 W값을 업데이트해준다(기울기는 미분을 통해 구한다는 것을 상기하면 이해가 빠를 것이다). `W`가 업데이트될수록 비용함수의 기울기는 작아지기 때문에 새로 업데이트되는 `W`의 증감치는 갈수록 줄어들고 더욱 세밀한 최적화 과정이 가능하게 된다. `W`값의 업데이트 식은 다음 식으로 나타낼 수 있다.\n",
    "\n",
    "\n",
    "![image6](https://blogfiles.pstatic.net/MjAyMDAzMTNfMjkw/MDAxNTg0MDg1ODk3MzE4.ooAQUPTFFx24k4xbYyeRS4Of51W4laQIacwm9KbyiOIg.Q6bmWRUog12vfX9toDzM1mXH3N0PjjpPpMcsui2bys4g.JPEG.mint_vkkk/4.JPG?type=w2)\n",
    "\n",
    "&nbsp; 위 식에서 `α`는 학습률(learning rate)라고 불리며, 기울기의 업데이트값을 얼마만큼 반영할 것인가를 나타낸다. 적절한 `α`값을 찾아내는 것도 비용 최소화 과정의 중요한 부분이다."
   ]
  },
  {
   "cell_type": "code",
   "execution_count": 0,
   "metadata": {
    "colab": {},
    "colab_type": "code",
    "id": "-52MkCBWOLY5",
    "pycharm": {
     "is_executing": false
    }
   },
   "outputs": [],
   "source": [
    "# To apply Gradient Descent\n",
    "# calculate the gradient of loss function\n",
    "delta = 0.1\n",
    "\n",
    "loss_rate_of_change_W = (loss_fn(model(t_u, W + delta, b), t_c) - \n",
    "                         loss_fn(model(t_u, W - delta, b), t_c)) / (2.0 * delta)\n",
    "\n",
    "loss_rate_of_change_b = (loss_fn(model(t_u, W, b + delta), t_c) - \n",
    "                         loss_fn(model(t_u, W, b - delta), t_c)) / (2.0 * delta)"
   ]
  },
  {
   "cell_type": "code",
   "execution_count": 0,
   "metadata": {
    "colab": {},
    "colab_type": "code",
    "id": "B8RDMbm9OLZb",
    "pycharm": {
     "is_executing": false
    }
   },
   "outputs": [],
   "source": [
    "# update weights with gradient multiplied with learning rate\n",
    "learning_rate = 1e-2\n",
    "\n",
    "W = W - learning_rate * loss_rate_of_change_W\n",
    "b = b - learning_rate * loss_rate_of_change_b"
   ]
  },
  {
   "cell_type": "code",
   "execution_count": 0,
   "metadata": {
    "colab": {},
    "colab_type": "code",
    "id": "eTYWJj2wOLam"
   },
   "outputs": [],
   "source": [
    "def loss_w(delta):\n",
    "    return (loss_fn(model(t_u, w + delta, b), t_c) - loss_fn(model(t_u, w - delta, b), t_c)) / (2.0 * delta)"
   ]
  },
  {
   "cell_type": "code",
   "execution_count": 0,
   "metadata": {
    "colab": {},
    "colab_type": "code",
    "id": "3iO8MTp-OLa-",
    "pycharm": {
     "is_executing": false
    }
   },
   "outputs": [],
   "source": [
    "def dloss_fn(t_p, t_c):\n",
    "    dsq_diffs = 2 * (t_p - t_c) / t_p.size(0)  # <1>\n",
    "    return dsq_diffs"
   ]
  },
  {
   "cell_type": "code",
   "execution_count": 0,
   "metadata": {
    "colab": {},
    "colab_type": "code",
    "id": "UGqxGi5wOLbg",
    "pycharm": {
     "is_executing": false
    }
   },
   "outputs": [],
   "source": [
    "# partial differential of the model\n",
    "\n",
    "# for W\n",
    "def dmodel_dw(t_u, w, b):\n",
    "    return t_u\n",
    "\n",
    "# for b\n",
    "def dmodel_db(t_u, w, b):\n",
    "    return 1.0"
   ]
  },
  {
   "cell_type": "code",
   "execution_count": 0,
   "metadata": {
    "colab": {},
    "colab_type": "code",
    "id": "zn-lwcNzOLcX",
    "pycharm": {
     "is_executing": false
    }
   },
   "outputs": [],
   "source": [
    "def grad_fn(t_u, t_c, t_p, w, b):\n",
    "    dloss_dtp = dloss_fn(t_p, t_c)\n",
    "    dloss_dw = dloss_dtp * dmodel_dw(t_u, w, b)\n",
    "    dloss_db = dloss_dtp * dmodel_db(t_u, w, b)\n",
    "    return torch.stack([dloss_dw.sum(), dloss_db.sum()])  # <1>"
   ]
  },
  {
   "cell_type": "code",
   "execution_count": 17,
   "metadata": {
    "colab": {
     "base_uri": "https://localhost:8080/",
     "height": 35
    },
    "colab_type": "code",
    "id": "GOXhbebgOLcm",
    "outputId": "f21e51aa-a663-4861-be3d-6929f89cd44f",
    "scrolled": true
   },
   "outputs": [
    {
     "data": {
      "text/plain": [
       "tensor([4517.2969,   82.6000])"
      ]
     },
     "execution_count": 17,
     "metadata": {
      "tags": []
     },
     "output_type": "execute_result"
    }
   ],
   "source": [
    "grad_fn(t_u, t_c, model(t_u, w=1, b=0), w=1, b=0)"
   ]
  },
  {
   "cell_type": "markdown",
   "metadata": {},
   "source": [
    "## Training Function"
   ]
  },
  {
   "cell_type": "code",
   "execution_count": 0,
   "metadata": {
    "colab": {},
    "colab_type": "code",
    "id": "F4N_odbwOLdQ",
    "pycharm": {
     "is_executing": false
    }
   },
   "outputs": [],
   "source": [
    "def training_loop(n_epochs, learning_rate, params, t_u, t_c, print_params=True):\n",
    "    loss_values = []\n",
    "    for epoch in range(1, n_epochs + 1):\n",
    "        w, b = params\n",
    "\n",
    "        t_p = model(t_u, w, b)  # <1>\n",
    "        loss = loss_fn(t_p, t_c)\n",
    "        grad = grad_fn(t_u, t_c, t_p, w, b)  # <2>\n",
    "\n",
    "        params = params - learning_rate * grad\n",
    "\n",
    "        loss_values.append(loss.item())\n",
    "        \n",
    "        if epoch in {1, 2, 3, 10, 11, 99, 100, 4000, 5000}:  # <3>\n",
    "            print('Epoch %d, Loss %f' % (epoch, float(loss)))\n",
    "            if print_params:\n",
    "                print('    Params:', params)\n",
    "                print('    Grad:  ', grad)\n",
    "        if epoch in {4, 12, 101}:\n",
    "            print('...')\n",
    "\n",
    "        if not torch.isfinite(loss).all():\n",
    "            break  # <3>\n",
    "            \n",
    "    return params, loss_values"
   ]
  },
  {
   "cell_type": "markdown",
   "metadata": {},
   "source": [
    "## Train Model"
   ]
  },
  {
   "cell_type": "code",
   "execution_count": 25,
   "metadata": {
    "colab": {
     "base_uri": "https://localhost:8080/",
     "height": 449
    },
    "colab_type": "code",
    "id": "dke2WlMIOLdm",
    "outputId": "31c13902-8d69-4fb3-eef7-7960894e43e6",
    "pycharm": {
     "is_executing": false
    }
   },
   "outputs": [
    {
     "name": "stdout",
     "output_type": "stream",
     "text": [
      "Epoch 1, Loss 1763.884644\n",
      "    Params: tensor([ 0.5483, -0.0083])\n",
      "    Grad:   tensor([4517.2969,   82.6000])\n",
      "Epoch 2, Loss 323.090546\n",
      "    Params: tensor([ 0.3623, -0.0118])\n",
      "    Grad:   tensor([1859.5493,   35.7843])\n",
      "Epoch 3, Loss 78.929634\n",
      "    Params: tensor([ 0.2858, -0.0135])\n",
      "    Grad:   tensor([765.4667,  16.5122])\n",
      "...\n",
      "Epoch 10, Loss 29.105242\n",
      "    Params: tensor([ 0.2324, -0.0166])\n",
      "    Grad:   tensor([1.4803, 3.0544])\n",
      "Epoch 11, Loss 29.104168\n",
      "    Params: tensor([ 0.2323, -0.0169])\n",
      "    Grad:   tensor([0.5781, 3.0384])\n",
      "...\n",
      "Epoch 99, Loss 29.023582\n",
      "    Params: tensor([ 0.2327, -0.0435])\n",
      "    Grad:   tensor([-0.0533,  3.0226])\n",
      "Epoch 100, Loss 29.022669\n",
      "    Params: tensor([ 0.2327, -0.0438])\n",
      "    Grad:   tensor([-0.0532,  3.0226])\n",
      "...\n"
     ]
    }
   ],
   "source": [
    "params, loss = training_loop(n_epochs = 102, \n",
    "                             learning_rate = 1e-4, \n",
    "                             params = torch.tensor([1.0, 0.0]), \n",
    "                             t_u = t_u, \n",
    "                             t_c = t_c)"
   ]
  },
  {
   "cell_type": "code",
   "execution_count": 26,
   "metadata": {
    "colab": {
     "base_uri": "https://localhost:8080/",
     "height": 276
    },
    "colab_type": "code",
    "id": "CdHRAtjCw2hZ",
    "outputId": "3dd33099-c98c-4583-aeed-3f06e2667ef4"
   },
   "outputs": [
    {
     "data": {
      "image/png": "[encoded data removed]",
      "text/plain": [
       "<Figure size 432x288 with 1 Axes>"
      ]
     },
     "metadata": {
      "tags": []
     },
     "output_type": "display_data"
    }
   ],
   "source": [
    "plt.plot(t_u.numpy(), t_p.detach().numpy(), label = 'prediction') \n",
    "plt.plot(t_u.numpy(), t_c.numpy(), 'o', label = 'training data')\n",
    "plt.xlabel(\"Temperature (°Fahrenheit)\")\n",
    "plt.ylabel(\"Temperature (°Celsius)\")\n",
    "plt.legend()\n",
    "plt.show()"
   ]
  },
  {
   "cell_type": "code",
   "execution_count": 29,
   "metadata": {
    "colab": {
     "base_uri": "https://localhost:8080/",
     "height": 215
    },
    "colab_type": "code",
    "id": "G4xTTQF-OLgQ",
    "outputId": "6ab79231-396b-4f6c-f369-2bfd6ee72184",
    "pycharm": {
     "is_executing": false
    },
    "scrolled": true
   },
   "outputs": [
    {
     "name": "stdout",
     "output_type": "stream",
     "text": [
      "Epoch 1, Loss 80.364342\n",
      "Epoch 2, Loss 37.574917\n",
      "Epoch 3, Loss 30.871077\n",
      "...\n",
      "Epoch 10, Loss 29.030487\n",
      "Epoch 11, Loss 28.941875\n",
      "...\n",
      "Epoch 99, Loss 22.214186\n",
      "Epoch 100, Loss 22.148710\n",
      "...\n"
     ]
    },
    {
     "data": {
      "text/plain": [
       "tensor([  5.3489, -17.1980])"
      ]
     },
     "execution_count": 29,
     "metadata": {
      "tags": []
     },
     "output_type": "execute_result"
    }
   ],
   "source": [
    "params, losses = training_loop(n_epochs = 3000, \n",
    "                            learning_rate = 1e-2, # increased learning rate\n",
    "                            params = torch.tensor([1.0, 0.0]), \n",
    "                            t_u = t_un, \n",
    "                            t_c = t_c,\n",
    "                            print_params = False)\n",
    "params"
   ]
  },
  {
   "cell_type": "code",
   "execution_count": 30,
   "metadata": {
    "colab": {
     "base_uri": "https://localhost:8080/",
     "height": 280
    },
    "colab_type": "code",
    "id": "4eocQ46nOLgm",
    "outputId": "77c2c9cc-bae1-4c4f-d514-f10d1532adc8"
   },
   "outputs": [
    {
     "data": {
      "text/plain": [
       "[<matplotlib.lines.Line2D at 0x7fd8c0806b00>]"
      ]
     },
     "execution_count": 30,
     "metadata": {
      "tags": []
     },
     "output_type": "execute_result"
    },
    {
     "data": {
      "image/png": "[encoded data removed]",
      "text/plain": [
       "<Figure size 432x288 with 1 Axes>"
      ]
     },
     "metadata": {
      "tags": []
     },
     "output_type": "display_data"
    }
   ],
   "source": [
    "plt.plot(losses[:10])"
   ]
  },
  {
   "cell_type": "code",
   "execution_count": 31,
   "metadata": {
    "colab": {
     "base_uri": "https://localhost:8080/",
     "height": 276
    },
    "colab_type": "code",
    "id": "7s8TnHB-OLg4",
    "outputId": "bcbaeb22-6d35-455e-d8f3-d736db72c0e5",
    "pycharm": {
     "is_executing": false
    },
    "scrolled": true
   },
   "outputs": [
    {
     "data": {
      "image/png": "[encoded data removed]",
      "text/plain": [
       "<Figure size 432x288 with 1 Axes>"
      ]
     },
     "metadata": {
      "tags": []
     },
     "output_type": "display_data"
    }
   ],
   "source": [
    "t_p = model(t_un, *params) \n",
    "\n",
    "plt.plot(t_u.numpy(), t_p.detach().numpy(), label = 'prediction')\n",
    "plt.plot(t_u.numpy(), t_c.numpy(), 'o', label = 'training data')\n",
    "plt.xlabel(\"Temperature (°Fahrenheit)\")\n",
    "plt.ylabel(\"Temperature (°Celsius)\")\n",
    "plt.legend()\n",
    "plt.show()"
   ]
  }
 ],
 "metadata": {
  "colab": {
   "name": "1. Linear Regression.ipynb",
   "provenance": []
  },
  "kernelspec": {
   "display_name": "Python 3",
   "language": "python",
   "name": "python3"
  },
  "language_info": {
   "codemirror_mode": {
    "name": "ipython",
    "version": 3
   },
   "file_extension": ".py",
   "mimetype": "text/x-python",
   "name": "python",
   "nbconvert_exporter": "python",
   "pygments_lexer": "ipython3",
   "version": "3.8.3"
  },
  "toc": {
   "base_numbering": 1,
   "nav_menu": {},
   "number_sections": true,
   "sideBar": true,
   "skip_h1_title": false,
   "title_cell": "Table of Contents",
   "title_sidebar": "Contents",
   "toc_cell": false,
   "toc_position": {},
   "toc_section_display": true,
   "toc_window_display": false
  }
 },
 "nbformat": 4,
 "nbformat_minor": 1
}
