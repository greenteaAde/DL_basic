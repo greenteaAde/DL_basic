{
  "nbformat": 4,
  "nbformat_minor": 0,
  "metadata": {
    "accelerator": "GPU",
    "colab": {
      "name": "6. Fashion MNIST with Convolution Network.ipynb",
      "provenance": [],
      "collapsed_sections": []
    },
    "kernelspec": {
      "display_name": "Python 3",
      "language": "python",
      "name": "python3"
    },
    "language_info": {
      "codemirror_mode": {
        "name": "ipython",
        "version": 3
      },
      "file_extension": ".py",
      "mimetype": "text/x-python",
      "name": "python",
      "nbconvert_exporter": "python",
      "pygments_lexer": "ipython3",
      "version": "3.8.3"
    },
    "toc": {
      "base_numbering": 1,
      "nav_menu": {},
      "number_sections": true,
      "sideBar": true,
      "skip_h1_title": false,
      "title_cell": "Table of Contents",
      "title_sidebar": "Contents",
      "toc_cell": false,
      "toc_position": {},
      "toc_section_display": true,
      "toc_window_display": false
    },
    "widgets": {
      "application/vnd.jupyter.widget-state+json": {
        "f45e66ae1ffe4f4298b6f1e17b60087f": {
          "model_module": "@jupyter-widgets/controls",
          "model_name": "HBoxModel",
          "state": {
            "_view_name": "HBoxView",
            "_dom_classes": [],
            "_model_name": "HBoxModel",
            "_view_module": "@jupyter-widgets/controls",
            "_model_module_version": "1.5.0",
            "_view_count": null,
            "_view_module_version": "1.5.0",
            "box_style": "",
            "layout": "IPY_MODEL_e21426fd143742da9e6ad1c683f559c9",
            "_model_module": "@jupyter-widgets/controls",
            "children": [
              "IPY_MODEL_fdfc51062a5942629aaa79045c0a4e34",
              "IPY_MODEL_aba5015fbb1d4702a1719a1321b9f8e8"
            ]
          }
        },
        "e21426fd143742da9e6ad1c683f559c9": {
          "model_module": "@jupyter-widgets/base",
          "model_name": "LayoutModel",
          "state": {
            "_view_name": "LayoutView",
            "grid_template_rows": null,
            "right": null,
            "justify_content": null,
            "_view_module": "@jupyter-widgets/base",
            "overflow": null,
            "_model_module_version": "1.2.0",
            "_view_count": null,
            "flex_flow": null,
            "width": null,
            "min_width": null,
            "border": null,
            "align_items": null,
            "bottom": null,
            "_model_module": "@jupyter-widgets/base",
            "top": null,
            "grid_column": null,
            "overflow_y": null,
            "overflow_x": null,
            "grid_auto_flow": null,
            "grid_area": null,
            "grid_template_columns": null,
            "flex": null,
            "_model_name": "LayoutModel",
            "justify_items": null,
            "grid_row": null,
            "max_height": null,
            "align_content": null,
            "visibility": null,
            "align_self": null,
            "height": null,
            "min_height": null,
            "padding": null,
            "grid_auto_rows": null,
            "grid_gap": null,
            "max_width": null,
            "order": null,
            "_view_module_version": "1.2.0",
            "grid_template_areas": null,
            "object_position": null,
            "object_fit": null,
            "grid_auto_columns": null,
            "margin": null,
            "display": null,
            "left": null
          }
        },
        "fdfc51062a5942629aaa79045c0a4e34": {
          "model_module": "@jupyter-widgets/controls",
          "model_name": "FloatProgressModel",
          "state": {
            "_view_name": "ProgressView",
            "style": "IPY_MODEL_7bf64c6d18944f72881e786ce0c2f073",
            "_dom_classes": [],
            "description": "",
            "_model_name": "FloatProgressModel",
            "bar_style": "info",
            "max": 1,
            "_view_module": "@jupyter-widgets/controls",
            "_model_module_version": "1.5.0",
            "value": 1,
            "_view_count": null,
            "_view_module_version": "1.5.0",
            "orientation": "horizontal",
            "min": 0,
            "description_tooltip": null,
            "_model_module": "@jupyter-widgets/controls",
            "layout": "IPY_MODEL_26c890b84edc4f98afdaef8746d26ec4"
          }
        },
        "aba5015fbb1d4702a1719a1321b9f8e8": {
          "model_module": "@jupyter-widgets/controls",
          "model_name": "HTMLModel",
          "state": {
            "_view_name": "HTMLView",
            "style": "IPY_MODEL_89b74cc020124cb5a5ec9653b416a08d",
            "_dom_classes": [],
            "description": "",
            "_model_name": "HTMLModel",
            "placeholder": "​",
            "_view_module": "@jupyter-widgets/controls",
            "_model_module_version": "1.5.0",
            "value": " 26427392/? [00:20&lt;00:00, 72251900.37it/s]",
            "_view_count": null,
            "_view_module_version": "1.5.0",
            "description_tooltip": null,
            "_model_module": "@jupyter-widgets/controls",
            "layout": "IPY_MODEL_78de1397df85475ea2eb90d522456184"
          }
        },
        "7bf64c6d18944f72881e786ce0c2f073": {
          "model_module": "@jupyter-widgets/controls",
          "model_name": "ProgressStyleModel",
          "state": {
            "_view_name": "StyleView",
            "_model_name": "ProgressStyleModel",
            "description_width": "initial",
            "_view_module": "@jupyter-widgets/base",
            "_model_module_version": "1.5.0",
            "_view_count": null,
            "_view_module_version": "1.2.0",
            "bar_color": null,
            "_model_module": "@jupyter-widgets/controls"
          }
        },
        "26c890b84edc4f98afdaef8746d26ec4": {
          "model_module": "@jupyter-widgets/base",
          "model_name": "LayoutModel",
          "state": {
            "_view_name": "LayoutView",
            "grid_template_rows": null,
            "right": null,
            "justify_content": null,
            "_view_module": "@jupyter-widgets/base",
            "overflow": null,
            "_model_module_version": "1.2.0",
            "_view_count": null,
            "flex_flow": null,
            "width": null,
            "min_width": null,
            "border": null,
            "align_items": null,
            "bottom": null,
            "_model_module": "@jupyter-widgets/base",
            "top": null,
            "grid_column": null,
            "overflow_y": null,
            "overflow_x": null,
            "grid_auto_flow": null,
            "grid_area": null,
            "grid_template_columns": null,
            "flex": null,
            "_model_name": "LayoutModel",
            "justify_items": null,
            "grid_row": null,
            "max_height": null,
            "align_content": null,
            "visibility": null,
            "align_self": null,
            "height": null,
            "min_height": null,
            "padding": null,
            "grid_auto_rows": null,
            "grid_gap": null,
            "max_width": null,
            "order": null,
            "_view_module_version": "1.2.0",
            "grid_template_areas": null,
            "object_position": null,
            "object_fit": null,
            "grid_auto_columns": null,
            "margin": null,
            "display": null,
            "left": null
          }
        },
        "89b74cc020124cb5a5ec9653b416a08d": {
          "model_module": "@jupyter-widgets/controls",
          "model_name": "DescriptionStyleModel",
          "state": {
            "_view_name": "StyleView",
            "_model_name": "DescriptionStyleModel",
            "description_width": "",
            "_view_module": "@jupyter-widgets/base",
            "_model_module_version": "1.5.0",
            "_view_count": null,
            "_view_module_version": "1.2.0",
            "_model_module": "@jupyter-widgets/controls"
          }
        },
        "78de1397df85475ea2eb90d522456184": {
          "model_module": "@jupyter-widgets/base",
          "model_name": "LayoutModel",
          "state": {
            "_view_name": "LayoutView",
            "grid_template_rows": null,
            "right": null,
            "justify_content": null,
            "_view_module": "@jupyter-widgets/base",
            "overflow": null,
            "_model_module_version": "1.2.0",
            "_view_count": null,
            "flex_flow": null,
            "width": null,
            "min_width": null,
            "border": null,
            "align_items": null,
            "bottom": null,
            "_model_module": "@jupyter-widgets/base",
            "top": null,
            "grid_column": null,
            "overflow_y": null,
            "overflow_x": null,
            "grid_auto_flow": null,
            "grid_area": null,
            "grid_template_columns": null,
            "flex": null,
            "_model_name": "LayoutModel",
            "justify_items": null,
            "grid_row": null,
            "max_height": null,
            "align_content": null,
            "visibility": null,
            "align_self": null,
            "height": null,
            "min_height": null,
            "padding": null,
            "grid_auto_rows": null,
            "grid_gap": null,
            "max_width": null,
            "order": null,
            "_view_module_version": "1.2.0",
            "grid_template_areas": null,
            "object_position": null,
            "object_fit": null,
            "grid_auto_columns": null,
            "margin": null,
            "display": null,
            "left": null
          }
        },
        "8f18eadc93e4449c981c360d7cdefcfa": {
          "model_module": "@jupyter-widgets/controls",
          "model_name": "HBoxModel",
          "state": {
            "_view_name": "HBoxView",
            "_dom_classes": [],
            "_model_name": "HBoxModel",
            "_view_module": "@jupyter-widgets/controls",
            "_model_module_version": "1.5.0",
            "_view_count": null,
            "_view_module_version": "1.5.0",
            "box_style": "",
            "layout": "IPY_MODEL_6af682933f9144cf88c8ae672ff7c837",
            "_model_module": "@jupyter-widgets/controls",
            "children": [
              "IPY_MODEL_a921e36627fd4a75ba2cb1dd2aa794b9",
              "IPY_MODEL_1f0f0c81ca6c4887971553d229442cfc"
            ]
          }
        },
        "6af682933f9144cf88c8ae672ff7c837": {
          "model_module": "@jupyter-widgets/base",
          "model_name": "LayoutModel",
          "state": {
            "_view_name": "LayoutView",
            "grid_template_rows": null,
            "right": null,
            "justify_content": null,
            "_view_module": "@jupyter-widgets/base",
            "overflow": null,
            "_model_module_version": "1.2.0",
            "_view_count": null,
            "flex_flow": null,
            "width": null,
            "min_width": null,
            "border": null,
            "align_items": null,
            "bottom": null,
            "_model_module": "@jupyter-widgets/base",
            "top": null,
            "grid_column": null,
            "overflow_y": null,
            "overflow_x": null,
            "grid_auto_flow": null,
            "grid_area": null,
            "grid_template_columns": null,
            "flex": null,
            "_model_name": "LayoutModel",
            "justify_items": null,
            "grid_row": null,
            "max_height": null,
            "align_content": null,
            "visibility": null,
            "align_self": null,
            "height": null,
            "min_height": null,
            "padding": null,
            "grid_auto_rows": null,
            "grid_gap": null,
            "max_width": null,
            "order": null,
            "_view_module_version": "1.2.0",
            "grid_template_areas": null,
            "object_position": null,
            "object_fit": null,
            "grid_auto_columns": null,
            "margin": null,
            "display": null,
            "left": null
          }
        },
        "a921e36627fd4a75ba2cb1dd2aa794b9": {
          "model_module": "@jupyter-widgets/controls",
          "model_name": "FloatProgressModel",
          "state": {
            "_view_name": "ProgressView",
            "style": "IPY_MODEL_405536c33cce4b048c90b29e797c7a80",
            "_dom_classes": [],
            "description": "",
            "_model_name": "FloatProgressModel",
            "bar_style": "success",
            "max": 1,
            "_view_module": "@jupyter-widgets/controls",
            "_model_module_version": "1.5.0",
            "value": 1,
            "_view_count": null,
            "_view_module_version": "1.5.0",
            "orientation": "horizontal",
            "min": 0,
            "description_tooltip": null,
            "_model_module": "@jupyter-widgets/controls",
            "layout": "IPY_MODEL_c65ad1a63f4c4eebb00dd897a7355aaa"
          }
        },
        "1f0f0c81ca6c4887971553d229442cfc": {
          "model_module": "@jupyter-widgets/controls",
          "model_name": "HTMLModel",
          "state": {
            "_view_name": "HTMLView",
            "style": "IPY_MODEL_78ded2006f8047dc89a993284c42f285",
            "_dom_classes": [],
            "description": "",
            "_model_name": "HTMLModel",
            "placeholder": "​",
            "_view_module": "@jupyter-widgets/controls",
            "_model_module_version": "1.5.0",
            "value": " 32768/? [00:00&lt;00:00, 233958.95it/s]",
            "_view_count": null,
            "_view_module_version": "1.5.0",
            "description_tooltip": null,
            "_model_module": "@jupyter-widgets/controls",
            "layout": "IPY_MODEL_dfef3377cfb3409b9b92ae4f18402f1b"
          }
        },
        "405536c33cce4b048c90b29e797c7a80": {
          "model_module": "@jupyter-widgets/controls",
          "model_name": "ProgressStyleModel",
          "state": {
            "_view_name": "StyleView",
            "_model_name": "ProgressStyleModel",
            "description_width": "initial",
            "_view_module": "@jupyter-widgets/base",
            "_model_module_version": "1.5.0",
            "_view_count": null,
            "_view_module_version": "1.2.0",
            "bar_color": null,
            "_model_module": "@jupyter-widgets/controls"
          }
        },
        "c65ad1a63f4c4eebb00dd897a7355aaa": {
          "model_module": "@jupyter-widgets/base",
          "model_name": "LayoutModel",
          "state": {
            "_view_name": "LayoutView",
            "grid_template_rows": null,
            "right": null,
            "justify_content": null,
            "_view_module": "@jupyter-widgets/base",
            "overflow": null,
            "_model_module_version": "1.2.0",
            "_view_count": null,
            "flex_flow": null,
            "width": null,
            "min_width": null,
            "border": null,
            "align_items": null,
            "bottom": null,
            "_model_module": "@jupyter-widgets/base",
            "top": null,
            "grid_column": null,
            "overflow_y": null,
            "overflow_x": null,
            "grid_auto_flow": null,
            "grid_area": null,
            "grid_template_columns": null,
            "flex": null,
            "_model_name": "LayoutModel",
            "justify_items": null,
            "grid_row": null,
            "max_height": null,
            "align_content": null,
            "visibility": null,
            "align_self": null,
            "height": null,
            "min_height": null,
            "padding": null,
            "grid_auto_rows": null,
            "grid_gap": null,
            "max_width": null,
            "order": null,
            "_view_module_version": "1.2.0",
            "grid_template_areas": null,
            "object_position": null,
            "object_fit": null,
            "grid_auto_columns": null,
            "margin": null,
            "display": null,
            "left": null
          }
        },
        "78ded2006f8047dc89a993284c42f285": {
          "model_module": "@jupyter-widgets/controls",
          "model_name": "DescriptionStyleModel",
          "state": {
            "_view_name": "StyleView",
            "_model_name": "DescriptionStyleModel",
            "description_width": "",
            "_view_module": "@jupyter-widgets/base",
            "_model_module_version": "1.5.0",
            "_view_count": null,
            "_view_module_version": "1.2.0",
            "_model_module": "@jupyter-widgets/controls"
          }
        },
        "dfef3377cfb3409b9b92ae4f18402f1b": {
          "model_module": "@jupyter-widgets/base",
          "model_name": "LayoutModel",
          "state": {
            "_view_name": "LayoutView",
            "grid_template_rows": null,
            "right": null,
            "justify_content": null,
            "_view_module": "@jupyter-widgets/base",
            "overflow": null,
            "_model_module_version": "1.2.0",
            "_view_count": null,
            "flex_flow": null,
            "width": null,
            "min_width": null,
            "border": null,
            "align_items": null,
            "bottom": null,
            "_model_module": "@jupyter-widgets/base",
            "top": null,
            "grid_column": null,
            "overflow_y": null,
            "overflow_x": null,
            "grid_auto_flow": null,
            "grid_area": null,
            "grid_template_columns": null,
            "flex": null,
            "_model_name": "LayoutModel",
            "justify_items": null,
            "grid_row": null,
            "max_height": null,
            "align_content": null,
            "visibility": null,
            "align_self": null,
            "height": null,
            "min_height": null,
            "padding": null,
            "grid_auto_rows": null,
            "grid_gap": null,
            "max_width": null,
            "order": null,
            "_view_module_version": "1.2.0",
            "grid_template_areas": null,
            "object_position": null,
            "object_fit": null,
            "grid_auto_columns": null,
            "margin": null,
            "display": null,
            "left": null
          }
        },
        "43bbff45624c4023a5c9d08cb962a739": {
          "model_module": "@jupyter-widgets/controls",
          "model_name": "HBoxModel",
          "state": {
            "_view_name": "HBoxView",
            "_dom_classes": [],
            "_model_name": "HBoxModel",
            "_view_module": "@jupyter-widgets/controls",
            "_model_module_version": "1.5.0",
            "_view_count": null,
            "_view_module_version": "1.5.0",
            "box_style": "",
            "layout": "IPY_MODEL_1133cd89653c4474bb98655cf9f1eb84",
            "_model_module": "@jupyter-widgets/controls",
            "children": [
              "IPY_MODEL_aa88e4a269744c5197728b49d9b40b8f",
              "IPY_MODEL_0b2bd2b64ac042d7a8f86bd3a84836fc"
            ]
          }
        },
        "1133cd89653c4474bb98655cf9f1eb84": {
          "model_module": "@jupyter-widgets/base",
          "model_name": "LayoutModel",
          "state": {
            "_view_name": "LayoutView",
            "grid_template_rows": null,
            "right": null,
            "justify_content": null,
            "_view_module": "@jupyter-widgets/base",
            "overflow": null,
            "_model_module_version": "1.2.0",
            "_view_count": null,
            "flex_flow": null,
            "width": null,
            "min_width": null,
            "border": null,
            "align_items": null,
            "bottom": null,
            "_model_module": "@jupyter-widgets/base",
            "top": null,
            "grid_column": null,
            "overflow_y": null,
            "overflow_x": null,
            "grid_auto_flow": null,
            "grid_area": null,
            "grid_template_columns": null,
            "flex": null,
            "_model_name": "LayoutModel",
            "justify_items": null,
            "grid_row": null,
            "max_height": null,
            "align_content": null,
            "visibility": null,
            "align_self": null,
            "height": null,
            "min_height": null,
            "padding": null,
            "grid_auto_rows": null,
            "grid_gap": null,
            "max_width": null,
            "order": null,
            "_view_module_version": "1.2.0",
            "grid_template_areas": null,
            "object_position": null,
            "object_fit": null,
            "grid_auto_columns": null,
            "margin": null,
            "display": null,
            "left": null
          }
        },
        "aa88e4a269744c5197728b49d9b40b8f": {
          "model_module": "@jupyter-widgets/controls",
          "model_name": "FloatProgressModel",
          "state": {
            "_view_name": "ProgressView",
            "style": "IPY_MODEL_5e00d2f6dfb84d368fb5f6c7e2f45469",
            "_dom_classes": [],
            "description": "",
            "_model_name": "FloatProgressModel",
            "bar_style": "info",
            "max": 1,
            "_view_module": "@jupyter-widgets/controls",
            "_model_module_version": "1.5.0",
            "value": 1,
            "_view_count": null,
            "_view_module_version": "1.5.0",
            "orientation": "horizontal",
            "min": 0,
            "description_tooltip": null,
            "_model_module": "@jupyter-widgets/controls",
            "layout": "IPY_MODEL_cd7815b770394c5daf1ccb1f86e860f4"
          }
        },
        "0b2bd2b64ac042d7a8f86bd3a84836fc": {
          "model_module": "@jupyter-widgets/controls",
          "model_name": "HTMLModel",
          "state": {
            "_view_name": "HTMLView",
            "style": "IPY_MODEL_23e8e8dd7f784e9891a7e0c3a4f8d4c5",
            "_dom_classes": [],
            "description": "",
            "_model_name": "HTMLModel",
            "placeholder": "​",
            "_view_module": "@jupyter-widgets/controls",
            "_model_module_version": "1.5.0",
            "value": " 4423680/? [00:19&lt;00:00, 401411.94it/s]",
            "_view_count": null,
            "_view_module_version": "1.5.0",
            "description_tooltip": null,
            "_model_module": "@jupyter-widgets/controls",
            "layout": "IPY_MODEL_e01a056b4393483cae653a7008f0ef71"
          }
        },
        "5e00d2f6dfb84d368fb5f6c7e2f45469": {
          "model_module": "@jupyter-widgets/controls",
          "model_name": "ProgressStyleModel",
          "state": {
            "_view_name": "StyleView",
            "_model_name": "ProgressStyleModel",
            "description_width": "initial",
            "_view_module": "@jupyter-widgets/base",
            "_model_module_version": "1.5.0",
            "_view_count": null,
            "_view_module_version": "1.2.0",
            "bar_color": null,
            "_model_module": "@jupyter-widgets/controls"
          }
        },
        "cd7815b770394c5daf1ccb1f86e860f4": {
          "model_module": "@jupyter-widgets/base",
          "model_name": "LayoutModel",
          "state": {
            "_view_name": "LayoutView",
            "grid_template_rows": null,
            "right": null,
            "justify_content": null,
            "_view_module": "@jupyter-widgets/base",
            "overflow": null,
            "_model_module_version": "1.2.0",
            "_view_count": null,
            "flex_flow": null,
            "width": null,
            "min_width": null,
            "border": null,
            "align_items": null,
            "bottom": null,
            "_model_module": "@jupyter-widgets/base",
            "top": null,
            "grid_column": null,
            "overflow_y": null,
            "overflow_x": null,
            "grid_auto_flow": null,
            "grid_area": null,
            "grid_template_columns": null,
            "flex": null,
            "_model_name": "LayoutModel",
            "justify_items": null,
            "grid_row": null,
            "max_height": null,
            "align_content": null,
            "visibility": null,
            "align_self": null,
            "height": null,
            "min_height": null,
            "padding": null,
            "grid_auto_rows": null,
            "grid_gap": null,
            "max_width": null,
            "order": null,
            "_view_module_version": "1.2.0",
            "grid_template_areas": null,
            "object_position": null,
            "object_fit": null,
            "grid_auto_columns": null,
            "margin": null,
            "display": null,
            "left": null
          }
        },
        "23e8e8dd7f784e9891a7e0c3a4f8d4c5": {
          "model_module": "@jupyter-widgets/controls",
          "model_name": "DescriptionStyleModel",
          "state": {
            "_view_name": "StyleView",
            "_model_name": "DescriptionStyleModel",
            "description_width": "",
            "_view_module": "@jupyter-widgets/base",
            "_model_module_version": "1.5.0",
            "_view_count": null,
            "_view_module_version": "1.2.0",
            "_model_module": "@jupyter-widgets/controls"
          }
        },
        "e01a056b4393483cae653a7008f0ef71": {
          "model_module": "@jupyter-widgets/base",
          "model_name": "LayoutModel",
          "state": {
            "_view_name": "LayoutView",
            "grid_template_rows": null,
            "right": null,
            "justify_content": null,
            "_view_module": "@jupyter-widgets/base",
            "overflow": null,
            "_model_module_version": "1.2.0",
            "_view_count": null,
            "flex_flow": null,
            "width": null,
            "min_width": null,
            "border": null,
            "align_items": null,
            "bottom": null,
            "_model_module": "@jupyter-widgets/base",
            "top": null,
            "grid_column": null,
            "overflow_y": null,
            "overflow_x": null,
            "grid_auto_flow": null,
            "grid_area": null,
            "grid_template_columns": null,
            "flex": null,
            "_model_name": "LayoutModel",
            "justify_items": null,
            "grid_row": null,
            "max_height": null,
            "align_content": null,
            "visibility": null,
            "align_self": null,
            "height": null,
            "min_height": null,
            "padding": null,
            "grid_auto_rows": null,
            "grid_gap": null,
            "max_width": null,
            "order": null,
            "_view_module_version": "1.2.0",
            "grid_template_areas": null,
            "object_position": null,
            "object_fit": null,
            "grid_auto_columns": null,
            "margin": null,
            "display": null,
            "left": null
          }
        },
        "d2cb5a088f6a4d4babf651611ece81ef": {
          "model_module": "@jupyter-widgets/controls",
          "model_name": "HBoxModel",
          "state": {
            "_view_name": "HBoxView",
            "_dom_classes": [],
            "_model_name": "HBoxModel",
            "_view_module": "@jupyter-widgets/controls",
            "_model_module_version": "1.5.0",
            "_view_count": null,
            "_view_module_version": "1.5.0",
            "box_style": "",
            "layout": "IPY_MODEL_117259033b1d493e97df771a7b151ea5",
            "_model_module": "@jupyter-widgets/controls",
            "children": [
              "IPY_MODEL_7a75fe82e1004e08a4bd77354e839374",
              "IPY_MODEL_ecdd7f28c10f4b119b0bad353eea921d"
            ]
          }
        },
        "117259033b1d493e97df771a7b151ea5": {
          "model_module": "@jupyter-widgets/base",
          "model_name": "LayoutModel",
          "state": {
            "_view_name": "LayoutView",
            "grid_template_rows": null,
            "right": null,
            "justify_content": null,
            "_view_module": "@jupyter-widgets/base",
            "overflow": null,
            "_model_module_version": "1.2.0",
            "_view_count": null,
            "flex_flow": null,
            "width": null,
            "min_width": null,
            "border": null,
            "align_items": null,
            "bottom": null,
            "_model_module": "@jupyter-widgets/base",
            "top": null,
            "grid_column": null,
            "overflow_y": null,
            "overflow_x": null,
            "grid_auto_flow": null,
            "grid_area": null,
            "grid_template_columns": null,
            "flex": null,
            "_model_name": "LayoutModel",
            "justify_items": null,
            "grid_row": null,
            "max_height": null,
            "align_content": null,
            "visibility": null,
            "align_self": null,
            "height": null,
            "min_height": null,
            "padding": null,
            "grid_auto_rows": null,
            "grid_gap": null,
            "max_width": null,
            "order": null,
            "_view_module_version": "1.2.0",
            "grid_template_areas": null,
            "object_position": null,
            "object_fit": null,
            "grid_auto_columns": null,
            "margin": null,
            "display": null,
            "left": null
          }
        },
        "7a75fe82e1004e08a4bd77354e839374": {
          "model_module": "@jupyter-widgets/controls",
          "model_name": "FloatProgressModel",
          "state": {
            "_view_name": "ProgressView",
            "style": "IPY_MODEL_c888fbe4b3cd41e3a258763692a976ce",
            "_dom_classes": [],
            "description": "",
            "_model_name": "FloatProgressModel",
            "bar_style": "success",
            "max": 1,
            "_view_module": "@jupyter-widgets/controls",
            "_model_module_version": "1.5.0",
            "value": 1,
            "_view_count": null,
            "_view_module_version": "1.5.0",
            "orientation": "horizontal",
            "min": 0,
            "description_tooltip": null,
            "_model_module": "@jupyter-widgets/controls",
            "layout": "IPY_MODEL_482894f80e8348eca279c908dd5b17ef"
          }
        },
        "ecdd7f28c10f4b119b0bad353eea921d": {
          "model_module": "@jupyter-widgets/controls",
          "model_name": "HTMLModel",
          "state": {
            "_view_name": "HTMLView",
            "style": "IPY_MODEL_9f12fa579b5d465cbbef6455231a47d4",
            "_dom_classes": [],
            "description": "",
            "_model_name": "HTMLModel",
            "placeholder": "​",
            "_view_module": "@jupyter-widgets/controls",
            "_model_module_version": "1.5.0",
            "value": " 8192/? [00:00&lt;00:00, 17865.54it/s]",
            "_view_count": null,
            "_view_module_version": "1.5.0",
            "description_tooltip": null,
            "_model_module": "@jupyter-widgets/controls",
            "layout": "IPY_MODEL_99626a49fda14b64af41b0dac147e1e0"
          }
        },
        "c888fbe4b3cd41e3a258763692a976ce": {
          "model_module": "@jupyter-widgets/controls",
          "model_name": "ProgressStyleModel",
          "state": {
            "_view_name": "StyleView",
            "_model_name": "ProgressStyleModel",
            "description_width": "initial",
            "_view_module": "@jupyter-widgets/base",
            "_model_module_version": "1.5.0",
            "_view_count": null,
            "_view_module_version": "1.2.0",
            "bar_color": null,
            "_model_module": "@jupyter-widgets/controls"
          }
        },
        "482894f80e8348eca279c908dd5b17ef": {
          "model_module": "@jupyter-widgets/base",
          "model_name": "LayoutModel",
          "state": {
            "_view_name": "LayoutView",
            "grid_template_rows": null,
            "right": null,
            "justify_content": null,
            "_view_module": "@jupyter-widgets/base",
            "overflow": null,
            "_model_module_version": "1.2.0",
            "_view_count": null,
            "flex_flow": null,
            "width": null,
            "min_width": null,
            "border": null,
            "align_items": null,
            "bottom": null,
            "_model_module": "@jupyter-widgets/base",
            "top": null,
            "grid_column": null,
            "overflow_y": null,
            "overflow_x": null,
            "grid_auto_flow": null,
            "grid_area": null,
            "grid_template_columns": null,
            "flex": null,
            "_model_name": "LayoutModel",
            "justify_items": null,
            "grid_row": null,
            "max_height": null,
            "align_content": null,
            "visibility": null,
            "align_self": null,
            "height": null,
            "min_height": null,
            "padding": null,
            "grid_auto_rows": null,
            "grid_gap": null,
            "max_width": null,
            "order": null,
            "_view_module_version": "1.2.0",
            "grid_template_areas": null,
            "object_position": null,
            "object_fit": null,
            "grid_auto_columns": null,
            "margin": null,
            "display": null,
            "left": null
          }
        },
        "9f12fa579b5d465cbbef6455231a47d4": {
          "model_module": "@jupyter-widgets/controls",
          "model_name": "DescriptionStyleModel",
          "state": {
            "_view_name": "StyleView",
            "_model_name": "DescriptionStyleModel",
            "description_width": "",
            "_view_module": "@jupyter-widgets/base",
            "_model_module_version": "1.5.0",
            "_view_count": null,
            "_view_module_version": "1.2.0",
            "_model_module": "@jupyter-widgets/controls"
          }
        },
        "99626a49fda14b64af41b0dac147e1e0": {
          "model_module": "@jupyter-widgets/base",
          "model_name": "LayoutModel",
          "state": {
            "_view_name": "LayoutView",
            "grid_template_rows": null,
            "right": null,
            "justify_content": null,
            "_view_module": "@jupyter-widgets/base",
            "overflow": null,
            "_model_module_version": "1.2.0",
            "_view_count": null,
            "flex_flow": null,
            "width": null,
            "min_width": null,
            "border": null,
            "align_items": null,
            "bottom": null,
            "_model_module": "@jupyter-widgets/base",
            "top": null,
            "grid_column": null,
            "overflow_y": null,
            "overflow_x": null,
            "grid_auto_flow": null,
            "grid_area": null,
            "grid_template_columns": null,
            "flex": null,
            "_model_name": "LayoutModel",
            "justify_items": null,
            "grid_row": null,
            "max_height": null,
            "align_content": null,
            "visibility": null,
            "align_self": null,
            "height": null,
            "min_height": null,
            "padding": null,
            "grid_auto_rows": null,
            "grid_gap": null,
            "max_width": null,
            "order": null,
            "_view_module_version": "1.2.0",
            "grid_template_areas": null,
            "object_position": null,
            "object_fit": null,
            "grid_auto_columns": null,
            "margin": null,
            "display": null,
            "left": null
          }
        }
      }
    }
  },
  "cells": [
    {
      "cell_type": "markdown",
      "metadata": {
        "colab_type": "text",
        "id": "jQP9p2_pc33V"
      },
      "source": [
        "# Fashion MNIST Classification\n",
        "- with a convilution network\n",
        "- https://github.com/zalandoresearch/fashion-mnist\n",
        "    - 60000 training, 10000 test\n",
        "    - $28\\times28$ grayscale\n",
        "    - Highest test accuracy: 0.939 by Google AutoML, 24 compute hours\n",
        "- https://github.com/dsgiitr/d2l-pytorch/tree/master/Ch05_Linear_Neural_Networks"
      ]
    },
    {
      "cell_type": "markdown",
      "metadata": {
        "id": "RLbqQSITo-iZ",
        "colab_type": "text"
      },
      "source": [
        "## Pooling Layer\n",
        "&nbsp; `8. HE Filtering with Conv2D Layer`에서 Convolution Layer에 대해 설명했다. Image Recognition을 위해서는 Convolution Layer가 추출한 특징을 sub-samplingg하는 Pooling Layer가 필요하다. 특징을 추출한 후 그 중 중요한 부분만 건져내는 과정을 수행하는 것이다. \n",
        "\n",
        "\n",
        "![image1](https://blogfiles.pstatic.net/MjAyMDAzMjRfMTUy/MDAxNTg1MDQyMDU0MzIx.2DU1EA9VRqAeqkjKhjHC49f4gvYH1WecjVLcE3gEDScg.X8bhlM2HmxsAOvfikWZeoUZCS6n6-Yfp2VcAYpkAwiYg.JPEG.mint_vkkk/1212.JPG?type=w2)\n",
        "\n",
        "\n",
        "&nbsp; 위 그림은 convolution 연산을 통해 출력된 activation map을 pooling하는 과정을 보여준다. pooling을 하면 크기는 분명히 작하지나, 추력되는 채널의 개수는 동일하다. \n",
        "\n",
        "![image2](https://blogfiles.pstatic.net/MjAyMDAzMjRfNSAg/MDAxNTg1MDQyNjkzMjg2.ZnYzDenrheO-Unso9fY-BiSz4NLjLnFoDlpdpFYawVYg.ADOy6rfoYhGSAV8j2Dp12p8FTnOH4sFdvS6hTwnMErog.JPEG.mint_vkkk/1313.JPG?type=w2)\n",
        "\n",
        "&nbsp;  Pooling에는 주로 Max Pooling이라는 방법을 사용한다. Max Pooling은 위 그림과 같은 연산을 수행한다. 필터의 크기를 (2 x 2)로 입력했을 때, 필터 내의 수 중 가장 큰 숫자만을 가져와 샘플링하는 것이다. Pooling 의 필터는 가중치가 따로 존재하지 않으며, 필터와 겹치는 부분의 숫자 중 중요 부분만 추출해 낸다는 점에서 Convolution 연산의 필터와 차이점을 갖는다.\n",
        " Pooling에는 Average Pooling이라는 방법도 있다. 필터 안의 숫자를 평균하는 것이라고 보면 된다.  Average Pooling은 downsize가 가능하나, 중요 정보를 추출하는 것은 불가능하기에 feature extraction 과정에서는 Max Pooling을 주로 사용한다.\n"
      ]
    },
    {
      "cell_type": "markdown",
      "metadata": {
        "id": "C0T9YkK2pE4z",
        "colab_type": "text"
      },
      "source": [
        "## FC Layer\n",
        "![image3](https://blogfiles.pstatic.net/MjAyMDAzMjRfMTA3/MDAxNTg1MDQzNDg4MTkz.dvp3mz5U0XYWvOphCvQgehTIZzDCEXDLwtWQ3ZITA7wg.P4ZZXeKSRiOb40UIafJl6hpS7Cew-phomlhditoE2CAg.PNG.mint_vkkk/CNN-Architecture-Types-of-Layers-700x376.png?type=w2)\n",
        "\n",
        " Fully-connected layer는 우리가 이전에 배운 DNN 레이어이다. 이름에서 알 수 있듯이, 네트워크의 처음부터 끝까지를 연결했다는 의미이다. Fully-connected layer는 주로 세 가지 레이어로 구성되어있다.\n",
        "\n",
        " Flatten : 이전 레이어를 하나의 벡터로 평평하게 만들어 다음 레이어의 input값으로 사용할 수 있게 한다.\n",
        " Dense (ReLU) : Flatten한 값을 받아 옳은 label값을 예측하기 위한 가중치를 학습한다. ReLU 를 활성함수로 취한다.\n",
        " Dense (Softmax) : 학습한 내용을 바탕으로 분류를 수행한다. Softmax를 활성함수로 사용한다.\n",
        "\n",
        " FC layer는 새로 가중치를 주어 학습한다는 점에서 과적합 문제가 발생하고, 전체 CNN보다 더 많은 파라미터를 사용하며, feature의 위치정보가 모두 사라진다는 단점이 있다. 이를 해결하기 위한 방법이 바로 FC layer 대신 Global Average Pooling을 사용하는 것이다. GAP는 출력된 각 채널에 대해 전체적으로 평균을 내주는 것으로, 이 평균값을 분류에 사용한다.\n"
      ]
    },
    {
      "cell_type": "markdown",
      "metadata": {
        "id": "RdRpXUgZz3p_",
        "colab_type": "text"
      },
      "source": [
        "## Fashion MNIST Classification with Conv Network\n",
        "&nbsp; 간단한 Convolution Network를 만들어 Fashion MNIST를 학습하고 이를 Linear Network와 비교해볼 것이다."
      ]
    },
    {
      "cell_type": "code",
      "metadata": {
        "colab_type": "code",
        "id": "pgtywLFPc33Y",
        "colab": {
          "base_uri": "https://localhost:8080/",
          "height": 35
        },
        "outputId": "29583b1f-9885-4fca-a4f6-b96e9ab1c15b"
      },
      "source": [
        "import matplotlib.pyplot as plt\n",
        "plt.style.use('seaborn-whitegrid')\n",
        "%matplotlib inline\n",
        "import sys\n",
        "import os\n",
        "import time\n",
        "\n",
        "import torch\n",
        "import torch.nn as nn\n",
        "import torchvision\n",
        "from torchvision import transforms\n",
        "from torch.utils.data import DataLoader\n",
        "\n",
        "device = torch.device('cuda' if torch.cuda.is_available() else 'cpu')\n",
        "print(device)"
      ],
      "execution_count": 1,
      "outputs": [
        {
          "output_type": "stream",
          "text": [
            "cuda\n"
          ],
          "name": "stdout"
        }
      ]
    },
    {
      "cell_type": "code",
      "metadata": {
        "colab_type": "code",
        "id": "P6Dg7YZBpjCL",
        "colab": {
          "base_uri": "https://localhost:8080/",
          "height": 399,
          "referenced_widgets": [
            "f45e66ae1ffe4f4298b6f1e17b60087f",
            "e21426fd143742da9e6ad1c683f559c9",
            "fdfc51062a5942629aaa79045c0a4e34",
            "aba5015fbb1d4702a1719a1321b9f8e8",
            "7bf64c6d18944f72881e786ce0c2f073",
            "26c890b84edc4f98afdaef8746d26ec4",
            "89b74cc020124cb5a5ec9653b416a08d",
            "78de1397df85475ea2eb90d522456184",
            "8f18eadc93e4449c981c360d7cdefcfa",
            "6af682933f9144cf88c8ae672ff7c837",
            "a921e36627fd4a75ba2cb1dd2aa794b9",
            "1f0f0c81ca6c4887971553d229442cfc",
            "405536c33cce4b048c90b29e797c7a80",
            "c65ad1a63f4c4eebb00dd897a7355aaa",
            "78ded2006f8047dc89a993284c42f285",
            "dfef3377cfb3409b9b92ae4f18402f1b",
            "43bbff45624c4023a5c9d08cb962a739",
            "1133cd89653c4474bb98655cf9f1eb84",
            "aa88e4a269744c5197728b49d9b40b8f",
            "0b2bd2b64ac042d7a8f86bd3a84836fc",
            "5e00d2f6dfb84d368fb5f6c7e2f45469",
            "cd7815b770394c5daf1ccb1f86e860f4",
            "23e8e8dd7f784e9891a7e0c3a4f8d4c5",
            "e01a056b4393483cae653a7008f0ef71",
            "d2cb5a088f6a4d4babf651611ece81ef",
            "117259033b1d493e97df771a7b151ea5",
            "7a75fe82e1004e08a4bd77354e839374",
            "ecdd7f28c10f4b119b0bad353eea921d",
            "c888fbe4b3cd41e3a258763692a976ce",
            "482894f80e8348eca279c908dd5b17ef",
            "9f12fa579b5d465cbbef6455231a47d4",
            "99626a49fda14b64af41b0dac147e1e0"
          ]
        },
        "outputId": "f77e29dd-5cab-4a55-b81e-ca2e17260ff9"
      },
      "source": [
        "xforms = transforms.Compose([transforms.ToTensor(),\n",
        "                             ])\n",
        "\n",
        "dataset = {'train': torchvision.datasets.FashionMNIST('../data', train=True, download=True, transform=xforms),\n",
        "           'val' : torchvision.datasets.FashionMNIST('../data', train=False, download=True, transform=xforms) }"
      ],
      "execution_count": 2,
      "outputs": [
        {
          "output_type": "stream",
          "text": [
            "Downloading http://fashion-mnist.s3-website.eu-central-1.amazonaws.com/train-images-idx3-ubyte.gz to ../data/FashionMNIST/raw/train-images-idx3-ubyte.gz\n"
          ],
          "name": "stdout"
        },
        {
          "output_type": "display_data",
          "data": {
            "application/vnd.jupyter.widget-view+json": {
              "model_id": "f45e66ae1ffe4f4298b6f1e17b60087f",
              "version_minor": 0,
              "version_major": 2
            },
            "text/plain": [
              "HBox(children=(FloatProgress(value=1.0, bar_style='info', max=1.0), HTML(value='')))"
            ]
          },
          "metadata": {
            "tags": []
          }
        },
        {
          "output_type": "stream",
          "text": [
            "Extracting ../data/FashionMNIST/raw/train-images-idx3-ubyte.gz to ../data/FashionMNIST/raw\n",
            "Downloading http://fashion-mnist.s3-website.eu-central-1.amazonaws.com/train-labels-idx1-ubyte.gz to ../data/FashionMNIST/raw/train-labels-idx1-ubyte.gz\n"
          ],
          "name": "stdout"
        },
        {
          "output_type": "display_data",
          "data": {
            "application/vnd.jupyter.widget-view+json": {
              "model_id": "8f18eadc93e4449c981c360d7cdefcfa",
              "version_minor": 0,
              "version_major": 2
            },
            "text/plain": [
              "HBox(children=(FloatProgress(value=1.0, bar_style='info', max=1.0), HTML(value='')))"
            ]
          },
          "metadata": {
            "tags": []
          }
        },
        {
          "output_type": "stream",
          "text": [
            "Extracting ../data/FashionMNIST/raw/train-labels-idx1-ubyte.gz to ../data/FashionMNIST/raw\n",
            "Downloading http://fashion-mnist.s3-website.eu-central-1.amazonaws.com/t10k-images-idx3-ubyte.gz to ../data/FashionMNIST/raw/t10k-images-idx3-ubyte.gz\n",
            "\n"
          ],
          "name": "stdout"
        },
        {
          "output_type": "display_data",
          "data": {
            "application/vnd.jupyter.widget-view+json": {
              "model_id": "43bbff45624c4023a5c9d08cb962a739",
              "version_minor": 0,
              "version_major": 2
            },
            "text/plain": [
              "HBox(children=(FloatProgress(value=1.0, bar_style='info', max=1.0), HTML(value='')))"
            ]
          },
          "metadata": {
            "tags": []
          }
        },
        {
          "output_type": "stream",
          "text": [
            "Extracting ../data/FashionMNIST/raw/t10k-images-idx3-ubyte.gz to ../data/FashionMNIST/raw\n",
            "Downloading http://fashion-mnist.s3-website.eu-central-1.amazonaws.com/t10k-labels-idx1-ubyte.gz to ../data/FashionMNIST/raw/t10k-labels-idx1-ubyte.gz\n"
          ],
          "name": "stdout"
        },
        {
          "output_type": "display_data",
          "data": {
            "application/vnd.jupyter.widget-view+json": {
              "model_id": "d2cb5a088f6a4d4babf651611ece81ef",
              "version_minor": 0,
              "version_major": 2
            },
            "text/plain": [
              "HBox(children=(FloatProgress(value=1.0, bar_style='info', max=1.0), HTML(value='')))"
            ]
          },
          "metadata": {
            "tags": []
          }
        },
        {
          "output_type": "stream",
          "text": [
            "Extracting ../data/FashionMNIST/raw/t10k-labels-idx1-ubyte.gz to ../data/FashionMNIST/raw\n",
            "Processing...\n",
            "Done!\n"
          ],
          "name": "stdout"
        },
        {
          "output_type": "stream",
          "text": [
            "/usr/local/lib/python3.6/dist-packages/torchvision/datasets/mnist.py:469: UserWarning: The given NumPy array is not writeable, and PyTorch does not support non-writeable tensors. This means you can write to the underlying (supposedly non-writeable) NumPy array using the tensor. You may want to copy the array to protect its data or make it writeable before converting it to a tensor. This type of warning will be suppressed for the rest of this program. (Triggered internally at  /pytorch/torch/csrc/utils/tensor_numpy.cpp:141.)\n",
            "  return torch.from_numpy(parsed.astype(m[2], copy=False)).view(*s)\n"
          ],
          "name": "stderr"
        }
      ]
    },
    {
      "cell_type": "code",
      "metadata": {
        "colab_type": "code",
        "id": "I6AbjQDqA_i8",
        "colab": {}
      },
      "source": [
        "def get_data_loader(batch_size):\n",
        "    data_loader = { tv: torch.utils.data.DataLoader(dataset[tv], batch_size=batch_size, shuffle=True)\n",
        "                   for tv in dataset.keys()}\n",
        "    return data_loader\n",
        "\n",
        "batch_size = 5\n",
        "data_loader = get_data_loader(batch_size)"
      ],
      "execution_count": 6,
      "outputs": []
    },
    {
      "cell_type": "code",
      "metadata": {
        "id": "0f2nLZn-pRjM",
        "colab_type": "code",
        "colab": {
          "base_uri": "https://localhost:8080/",
          "height": 212
        },
        "outputId": "274e3d2a-1749-4ae3-fb4f-06d0c44dbdec"
      },
      "source": [
        "for im, lbl in data_loader['train']:\n",
        "    print(im.shape)\n",
        "    fig, axes = plt.subplots(1,im.shape[0], figsize=(14,8))\n",
        "    for i in range(im.shape[0]):\n",
        "        axes[i].imshow(im[i].reshape(28,28), cmap='gray')\n",
        "        axes[i].set_title(f'label: {lbl[i]}')\n",
        "    break"
      ],
      "execution_count": 9,
      "outputs": [
        {
          "output_type": "stream",
          "text": [
            "torch.Size([5, 1, 28, 28])\n"
          ],
          "name": "stdout"
        },
        {
          "output_type": "display_data",
          "data": {
            "image/png": "[encoded data removed]",
            "text/plain": [
              "<Figure size 1008x576 with 5 Axes>"
            ]
          },
          "metadata": {
            "tags": [],
            "needs_background": "light"
          }
        }
      ]
    },
    {
      "cell_type": "markdown",
      "metadata": {
        "colab_type": "text",
        "id": "J7Ljj8BYc34r"
      },
      "source": [
        "## Training Loop"
      ]
    },
    {
      "cell_type": "code",
      "metadata": {
        "colab_type": "code",
        "id": "keiHqDBGc34s",
        "colab": {}
      },
      "source": [
        "loss_fn = nn.CrossEntropyLoss()\n",
        "\n",
        "def training_loop(n_epochs, optim, model, loss_fn, dl_train, dl_val, hist=None, lr_scheduler=None):\n",
        "    if hist is not None:\n",
        "        pass\n",
        "    else:\n",
        "        hist = {'tloss': [], 'tacc': [], 'vloss': [], 'vacc': []}\n",
        "    #\n",
        "    if lr_scheduler is not None:\n",
        "        lr = []\n",
        "        \n",
        "    best_acc = 0\n",
        "    for epoch in range(1, n_epochs+1):\n",
        "        tr_loss, tr_acc = 0., 0.\n",
        "        n_data = 0\n",
        "        for im_batch, label_batch in dl_train: # minibatch\n",
        "            im_batch, label_batch = im_batch.to(device), label_batch.to(device)\n",
        "            ypred = model(im_batch)\n",
        "            loss_train = loss_fn(ypred, label_batch)\n",
        "        \n",
        "            optim.zero_grad()\n",
        "            loss_train.backward()\n",
        "            optim.step()\n",
        "            \n",
        "            # accumulate correct prediction\n",
        "            tr_acc  += (torch.argmax(ypred.detach(), dim=1) == label_batch).sum().item() # number of correct predictions\n",
        "            tr_loss += loss_train.item() * im_batch.shape[0]\n",
        "            n_data  += im_batch.shape[0]\n",
        "        # end mini-batch loop\n",
        "        \n",
        "        # statistics\n",
        "        tr_loss /= n_data\n",
        "        tr_acc  /= n_data\n",
        "        #\n",
        "        val_loss, val_acc = performance(model, loss_fn, dl_val)\n",
        "        \n",
        "        if epoch <= 5 or epoch % 10 == 0 or epoch == n_epochs:\n",
        "             print(f'Epoch {epoch}, tloss {tr_loss:.4f} t_acc: {tr_acc:.4f}  vloss {val_loss:.4f}  v_acc: {val_acc:.4f}')\n",
        "        \n",
        "        # best accuracy\n",
        "        if best_acc < val_acc:\n",
        "            best_acc = val_acc\n",
        "            print(f' >> best val accuracy updated: {best_acc} at epoch {epoch}.')\n",
        "        #\n",
        "        # record for history return\n",
        "        if hist is not None:\n",
        "            hist['tloss'].append(tr_loss)\n",
        "            hist['vloss'].append(val_loss) \n",
        "            hist['tacc'].append(tr_acc)\n",
        "            hist['vacc'].append(val_acc)\n",
        "            \n",
        "        if lr_scheduler is not None:\n",
        "            lr.append(lr_scheduler.get_last_lr()) # the lr used in optim.\n",
        "            lr_scheduler.step()\n",
        "        # end epoch-loop\n",
        "        \n",
        "    if lr_scheduler is not None:\n",
        "        hist['lr'] = lr\n",
        "        \n",
        "    print ('finished training_loop().')\n",
        "    return hist\n",
        "#\n",
        "\n",
        "def performance(model, loss_fn, dataloader):\n",
        "    model.eval()\n",
        "    with torch.no_grad():\n",
        "        loss, acc, n = 0., 0., 0.\n",
        "        for x, y in dataloader:\n",
        "            x, y = x.to(device), y.to(device)\n",
        "            ypred = model(x)\n",
        "            loss += loss_fn(ypred, y).item() * len(y)\n",
        "            p = torch.argmax(ypred, dim=1)\n",
        "            acc += (p == y).sum().item()\n",
        "            n += len(y)\n",
        "        #\n",
        "    loss /= n\n",
        "    acc /= n\n",
        "    return loss, acc\n",
        "#\n",
        "def plot_history(history):\n",
        "    fig, axes = plt.subplots(1,2, figsize=(16,6))\n",
        "    axes[0].set_title('Loss'); \n",
        "    axes[0].plot(history['tloss'], label='train'); axes[0].plot(history['vloss'], label='val')\n",
        "    axes[0].legend()\n",
        "    max_vacc = max(history['vacc'])\n",
        "    axes[1].set_title(f'Acc. vbest: {max_vacc:.2f}')\n",
        "    axes[1].plot(history['tacc'], label='train'); axes[1].plot(history['vacc'], label='val')\n",
        "    axes[1].legend()\n",
        "#"
      ],
      "execution_count": 10,
      "outputs": []
    },
    {
      "cell_type": "markdown",
      "metadata": {
        "colab_type": "text",
        "id": "-tj5ZbRxc34f"
      },
      "source": [
        "## Model with Three Linear Blocks"
      ]
    },
    {
      "cell_type": "code",
      "metadata": {
        "colab_type": "code",
        "id": "HBkrgNDSc34g",
        "colab": {}
      },
      "source": [
        "class Reshape(torch.nn.Module):\n",
        "    def forward(self, x):\n",
        "        return x.view(-1, 784) # (Batch, Features)"
      ],
      "execution_count": null,
      "outputs": []
    },
    {
      "cell_type": "code",
      "metadata": {
        "colab_type": "code",
        "id": "_nFjn9keelpN",
        "colab": {}
      },
      "source": [
        "class ConvBlock(nn.Module):\n",
        "    def __init__(self, in_channels, out_channels):\n",
        "        super().__init__()\n",
        "        \n",
        "        self.Conv2d = nn.Conv2d(in_channels, out_channels, kernel_size=3, stride=1, )\n",
        "        self.BatchNorm = nn.BatchNorm2d(out_channels)\n",
        "        self.activation = nn.ELU()\n",
        "\n",
        "    def forward(self, input):\n",
        "        x = self.Conv2d(input)\n",
        "        x = self.BatchNorm(x)\n",
        "        x = self.activation(x)\n",
        "\n",
        "        return x\n",
        "\n",
        "\n",
        "class MNISTNetwork(nn.Module):\n",
        "    def __init__(self, n_channels, n_target):\n",
        "        super().__init__()\n",
        "\n",
        "        self.Hidden_1 = ConvBlock(1, n_channels )  \n",
        "        self.Hidden_2 = ConvBlock(n_channels, n_channels*2 )\n",
        "        self.Pool_1 = nn.MaxPool2d(kernel_size = 2)\n",
        "        self.Hidden_3 = ConvBlock(n_channels*2, n_channels*4)  \n",
        "        self.Pool_2 = nn.AvgPool2d(kernel_size = 10)\n",
        "        self.Flatten = nn.Flatten()\n",
        "        self.Linear = nn.Linear(n_channels*4, n_target)\n",
        "\n",
        "    def forward(self, input):\n",
        "        x = self.Hidden_1(input)\n",
        "        x = self.Hidden_2(x)\n",
        "        x = self.Pool_1(x)\n",
        "        x = self.Hidden_3(x)\n",
        "        x = self.Pool_2(x)\n",
        "        x = self.Flatten(x)\n",
        "        x = self.Linear(x)\n",
        "\n",
        "        return x"
      ],
      "execution_count": 171,
      "outputs": []
    },
    {
      "cell_type": "code",
      "metadata": {
        "id": "I8TPBxmup2Hm",
        "colab_type": "code",
        "colab": {}
      },
      "source": [
        "batch_size = 128\n",
        "data_loader = get_data_loader(batch_size)"
      ],
      "execution_count": 172,
      "outputs": []
    },
    {
      "cell_type": "code",
      "metadata": {
        "colab_type": "code",
        "id": "puyJdARYfyyq",
        "colab": {}
      },
      "source": [
        "n_channels = 64\n",
        "n_targets = 10"
      ],
      "execution_count": 173,
      "outputs": []
    },
    {
      "cell_type": "code",
      "metadata": {
        "colab_type": "code",
        "id": "WA--bA6bg2O7",
        "colab": {
          "base_uri": "https://localhost:8080/",
          "height": 413
        },
        "outputId": "4079cd93-d332-466e-e941-331261e22c18"
      },
      "source": [
        "model = MNISTNetwork(n_channels, n_targets).to(device)\n",
        "total_params = sum(p.numel() for p in model.parameters() if p.requires_grad)\n",
        "print(model)\n",
        "print(total_params)"
      ],
      "execution_count": 174,
      "outputs": [
        {
          "output_type": "stream",
          "text": [
            "MNISTNetwork(\n",
            "  (Hidden_1): ConvBlock(\n",
            "    (Conv2d): Conv2d(1, 64, kernel_size=(3, 3), stride=(1, 1))\n",
            "    (BatchNorm): BatchNorm2d(64, eps=1e-05, momentum=0.1, affine=True, track_running_stats=True)\n",
            "    (activation): ELU(alpha=1.0)\n",
            "  )\n",
            "  (Hidden_2): ConvBlock(\n",
            "    (Conv2d): Conv2d(64, 128, kernel_size=(3, 3), stride=(1, 1))\n",
            "    (BatchNorm): BatchNorm2d(128, eps=1e-05, momentum=0.1, affine=True, track_running_stats=True)\n",
            "    (activation): ELU(alpha=1.0)\n",
            "  )\n",
            "  (Pool_1): MaxPool2d(kernel_size=2, stride=2, padding=0, dilation=1, ceil_mode=False)\n",
            "  (Hidden_3): ConvBlock(\n",
            "    (Conv2d): Conv2d(128, 256, kernel_size=(3, 3), stride=(1, 1))\n",
            "    (BatchNorm): BatchNorm2d(256, eps=1e-05, momentum=0.1, affine=True, track_running_stats=True)\n",
            "    (activation): ELU(alpha=1.0)\n",
            "  )\n",
            "  (Pool_2): AvgPool2d(kernel_size=10, stride=10, padding=0)\n",
            "  (Flatten): Flatten()\n",
            "  (Linear): Linear(in_features=256, out_features=10, bias=True)\n",
            ")\n",
            "373130\n"
          ],
          "name": "stdout"
        }
      ]
    },
    {
      "cell_type": "markdown",
      "metadata": {
        "colab_type": "text",
        "id": "6joAVuqLc346"
      },
      "source": [
        "## Train Setting"
      ]
    },
    {
      "cell_type": "code",
      "metadata": {
        "colab_type": "code",
        "id": "9a1nqnObc347",
        "colab": {}
      },
      "source": [
        "learning_rate = 0.1\n",
        "optimizer = torch.optim.Adam(model.parameters(), lr=learning_rate)\n",
        "stepLR = torch.optim.lr_scheduler.StepLR(optimizer, step_size=1, gamma=0.9)\n",
        "\n",
        "criterion = torch.nn.CrossEntropyLoss().to(device)\n",
        "history = None"
      ],
      "execution_count": 175,
      "outputs": []
    },
    {
      "cell_type": "markdown",
      "metadata": {
        "colab_type": "text",
        "id": "nOrVixAjj57v"
      },
      "source": [
        "## Training"
      ]
    },
    {
      "cell_type": "code",
      "metadata": {
        "colab_type": "code",
        "id": "bHUZDBw_virn",
        "colab": {
          "base_uri": "https://localhost:8080/",
          "height": 593
        },
        "outputId": "a6a9b27e-e2d8-4652-a43d-e2ff81071cc6"
      },
      "source": [
        "%%time\n",
        "history = training_loop(40, optimizer, model, criterion, data_loader['train'], data_loader['val'], history, stepLR )"
      ],
      "execution_count": 176,
      "outputs": [
        {
          "output_type": "stream",
          "text": [
            "Epoch 1, tloss 0.8497 t_acc: 0.6988  vloss 0.7140  v_acc: 0.7436\n",
            " >> best val accuracy updated: 0.7436 at epoch 1.\n",
            "Epoch 2, tloss 2.0413 t_acc: 0.6388  vloss 0.7745  v_acc: 0.7152\n",
            "Epoch 3, tloss 0.6486 t_acc: 0.7579  vloss 0.5538  v_acc: 0.7943\n",
            " >> best val accuracy updated: 0.7943 at epoch 3.\n",
            "Epoch 4, tloss 0.5223 t_acc: 0.8080  vloss 0.4992  v_acc: 0.8168\n",
            " >> best val accuracy updated: 0.8168 at epoch 4.\n",
            "Epoch 5, tloss 0.4611 t_acc: 0.8342  vloss 0.5742  v_acc: 0.7993\n",
            " >> best val accuracy updated: 0.8531 at epoch 6.\n",
            " >> best val accuracy updated: 0.8625 at epoch 7.\n",
            " >> best val accuracy updated: 0.871 at epoch 9.\n",
            "Epoch 10, tloss 0.3225 t_acc: 0.8832  vloss 0.3697  v_acc: 0.8679\n",
            " >> best val accuracy updated: 0.8807 at epoch 11.\n",
            " >> best val accuracy updated: 0.8868 at epoch 12.\n",
            " >> best val accuracy updated: 0.8902 at epoch 13.\n",
            " >> best val accuracy updated: 0.8922 at epoch 14.\n",
            " >> best val accuracy updated: 0.8983 at epoch 15.\n",
            " >> best val accuracy updated: 0.9008 at epoch 16.\n",
            " >> best val accuracy updated: 0.9038 at epoch 19.\n",
            "Epoch 20, tloss 0.2210 t_acc: 0.9200  vloss 0.2838  v_acc: 0.8981\n",
            " >> best val accuracy updated: 0.906 at epoch 22.\n",
            " >> best val accuracy updated: 0.9086 at epoch 24.\n",
            " >> best val accuracy updated: 0.9106 at epoch 27.\n",
            "Epoch 30, tloss 0.1685 t_acc: 0.9402  vloss 0.2671  v_acc: 0.9104\n",
            " >> best val accuracy updated: 0.9118 at epoch 32.\n",
            " >> best val accuracy updated: 0.913 at epoch 35.\n",
            " >> best val accuracy updated: 0.9135 at epoch 36.\n",
            " >> best val accuracy updated: 0.9139 at epoch 39.\n",
            "Epoch 40, tloss 0.1462 t_acc: 0.9484  vloss 0.2668  v_acc: 0.9100\n",
            "finished training_loop().\n",
            "CPU times: user 12min 49s, sys: 4min 12s, total: 17min 1s\n",
            "Wall time: 17min 3s\n"
          ],
          "name": "stdout"
        }
      ]
    },
    {
      "cell_type": "code",
      "metadata": {
        "colab_type": "code",
        "id": "CrY9koFe2CLn",
        "colab": {
          "base_uri": "https://localhost:8080/",
          "height": 386
        },
        "outputId": "e1cb42b7-b786-4322-d659-233a347b86a0"
      },
      "source": [
        "plot_history(history)"
      ],
      "execution_count": 177,
      "outputs": [
        {
          "output_type": "display_data",
          "data": {
            "image/png": "[encoded data removed]",
            "text/plain": [
              "<Figure size 1152x432 with 2 Axes>"
            ]
          },
          "metadata": {
            "tags": [],
            "needs_background": "light"
          }
        }
      ]
    },
    {
      "cell_type": "code",
      "metadata": {
        "colab_type": "code",
        "id": "JImHAIDwc36M",
        "colab": {
          "base_uri": "https://localhost:8080/",
          "height": 280
        },
        "outputId": "1650c5d6-ad1b-4059-93a0-10f98e6fa924"
      },
      "source": [
        "plt.plot(history['lr'], '-o')"
      ],
      "execution_count": 178,
      "outputs": [
        {
          "output_type": "execute_result",
          "data": {
            "text/plain": [
              "[<matplotlib.lines.Line2D at 0x7feba3ef87f0>]"
            ]
          },
          "metadata": {
            "tags": []
          },
          "execution_count": 178
        },
        {
          "output_type": "display_data",
          "data": {
            "image/png": "[encoded data removed]",
            "text/plain": [
              "<Figure size 432x288 with 1 Axes>"
            ]
          },
          "metadata": {
            "tags": [],
            "needs_background": "light"
          }
        }
      ]
    },
    {
      "cell_type": "markdown",
      "metadata": {
        "colab_type": "text",
        "id": "vvjU2zrNc36c"
      },
      "source": [
        "## Conclusion\n",
        "- 간단한 CNN 모델이었음에도 불구하고 Linear Network보다 더 좋은 성능을 보인다.\n",
        "- 경험적으로 Global Average Pooling을 사용했을 때가 사용하지 않았을 때보다 overfitting에 덜 취약하다. \n"
      ]
    }
  ]
}