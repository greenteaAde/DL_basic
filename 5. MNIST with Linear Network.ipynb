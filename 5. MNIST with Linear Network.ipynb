{
 "cells": [
  {
   "cell_type": "markdown",
   "metadata": {
    "colab_type": "text",
    "id": "aLxg0s70efN5"
   },
   "source": [
    "# MNIST classification\n",
    "- with a linear network\n",
    "- https://en.wikipedia.org/wiki/MNIST_database"
   ]
  },
  {
   "cell_type": "code",
   "execution_count": 1,
   "metadata": {
    "colab": {
     "base_uri": "https://localhost:8080/",
     "height": 53
    },
    "colab_type": "code",
    "id": "pyJ3RFElefN-",
    "outputId": "3ea15078-f79c-49e4-865c-74a142e7ecb6"
   },
   "outputs": [
    {
     "name": "stdout",
     "output_type": "stream",
     "text": [
      "numpy:  1.18.2\n",
      "sklearn:  0.22.2.post1\n"
     ]
    }
   ],
   "source": [
    "import numpy as np\n",
    "import torch\n",
    "import torch.nn as nn\n",
    "import torchvision.datasets\n",
    "import torchvision.transforms as transforms\n",
    "import matplotlib.pyplot as plt\n",
    "import sklearn\n",
    "\n",
    "print('numpy: ', np.__version__)\n",
    "print('sklearn: ', sklearn.__version__)\n",
    "\n",
    "plt.style.use('seaborn-whitegrid')"
   ]
  },
  {
   "cell_type": "code",
   "execution_count": 0,
   "metadata": {
    "colab": {},
    "colab_type": "code",
    "id": "wXCfrY-xefOe"
   },
   "outputs": [],
   "source": [
    "mnist_train = torchvision.datasets.MNIST(root='./data', train=True, download=True)\n",
    "mnist_test = torchvision.datasets.MNIST(root='./data', train=False, download=True)"
   ]
  },
  {
   "cell_type": "code",
   "execution_count": 3,
   "metadata": {
    "colab": {
     "base_uri": "https://localhost:8080/",
     "height": 35
    },
    "colab_type": "code",
    "id": "5GmAkp_MefSZ",
    "outputId": "65bc7450-447b-48ec-817b-56d644bfe42b"
   },
   "outputs": [
    {
     "name": "stdout",
     "output_type": "stream",
     "text": [
      "cuda:0\n"
     ]
    }
   ],
   "source": [
    "import matplotlib.pyplot as plt\n",
    "%matplotlib inline\n",
    "import numpy as np\n",
    "\n",
    "import torch\n",
    "import torch.utils\n",
    "import torch.nn as nn\n",
    "import torch.optim\n",
    "import torchvision\n",
    "\n",
    "device = torch.device(\"cuda:0\" if torch.cuda.is_available() else \"cpu\")\n",
    "#device = torch.device('cpu')\n",
    "print (device)"
   ]
  },
  {
   "cell_type": "markdown",
   "metadata": {
    "colab_type": "text",
    "id": "w1kwzuSmefSo"
   },
   "source": [
    "## Data Preparation"
   ]
  },
  {
   "cell_type": "code",
   "execution_count": 0,
   "metadata": {
    "colab": {},
    "colab_type": "code",
    "id": "poTaqV7SefSq"
   },
   "outputs": [],
   "source": [
    "data_transform = torchvision.transforms.Compose([#transforms.Grayscale(), \n",
    "                                     torchvision.transforms.ToTensor(),\n",
    "                                     torchvision.transforms.Lambda(lambda im: im.reshape(-1))\n",
    "                                    ])\n",
    "\n",
    "mnist_train = torchvision.datasets.MNIST(root='./data', train=True, download=True, transform=data_transform)\n",
    "mnist_test  = torchvision.datasets.MNIST(root='./data', train=False, download=True, transform=data_transform)\n",
    "\n",
    "batch_size=4\n",
    "train = torch.utils.data.DataLoader(mnist_train, batch_size=batch_size, shuffle=True)\n",
    "test = torch.utils.data.DataLoader(mnist_test, batch_size=batch_size, shuffle=True)"
   ]
  },
  {
   "cell_type": "code",
   "execution_count": 5,
   "metadata": {
    "colab": {
     "base_uri": "https://localhost:8080/",
     "height": 295
    },
    "colab_type": "code",
    "id": "wd6f_bqYefS5",
    "outputId": "bf6fad49-ae05-4af1-f017-b618dc533b44"
   },
   "outputs": [
    {
     "data": {
      "text/plain": [
       "Text(0.5, 1.0, 'label: 5')"
      ]
     },
     "execution_count": 5,
     "metadata": {
      "tags": []
     },
     "output_type": "execute_result"
    },
    {
     "data": {
      "image/png": "[encoded data removed]",
      "text/plain": [
       "<Figure size 432x288 with 1 Axes>"
      ]
     },
     "metadata": {
      "needs_background": "light",
      "tags": []
     },
     "output_type": "display_data"
    }
   ],
   "source": [
    "# Explore\n",
    "im, label = mnist_train[0]\n",
    "plt.imshow(im.reshape(28,28), cmap='gray')\n",
    "plt.title(f'label: {label}')"
   ]
  },
  {
   "cell_type": "code",
   "execution_count": 6,
   "metadata": {
    "colab": {
     "base_uri": "https://localhost:8080/",
     "height": 247
    },
    "colab_type": "code",
    "id": "zYYgRNiDefTP",
    "outputId": "4462b26d-2049-4568-8d42-f76df9003709"
   },
   "outputs": [
    {
     "name": "stdout",
     "output_type": "stream",
     "text": [
      "torch.Size([4, 784])\n"
     ]
    },
    {
     "data": {
      "image/png": "[encoded data removed]",
      "text/plain": [
       "<Figure size 1008x576 with 4 Axes>"
      ]
     },
     "metadata": {
      "needs_background": "light",
      "tags": []
     },
     "output_type": "display_data"
    }
   ],
   "source": [
    "for batch_im, batch_label in train:\n",
    "    print(batch_im.shape)\n",
    "    fig, axes = plt.subplots(1,batch_im.shape[0], figsize=(14,8))\n",
    "    for i in range(batch_im.shape[0]):\n",
    "        axes[i].imshow(batch_im[i].reshape(28,28), cmap='gray')\n",
    "        axes[i].set_title(f'label: {batch_label[i]}')\n",
    "    break"
   ]
  },
  {
   "cell_type": "markdown",
   "metadata": {
    "colab_type": "text",
    "id": "VjG62gSWefU7"
   },
   "source": [
    "## Training Loop"
   ]
  },
  {
   "cell_type": "code",
   "execution_count": 0,
   "metadata": {
    "colab": {},
    "colab_type": "code",
    "id": "7I9kX_BiefU9"
   },
   "outputs": [],
   "source": [
    "def performance(model, loss_fn, dataloader):\n",
    "    model.eval()\n",
    "    with torch.no_grad():\n",
    "        loss, acc, n = 0., 0., 0.\n",
    "        for x, y in dataloader:\n",
    "            x, y = x.to(device), y.to(device)\n",
    "            ypred = model(x)\n",
    "            loss += loss_fn(ypred, y).item() * len(y)\n",
    "            p = torch.argmax(ypred, dim=1)\n",
    "            acc += (p == y).sum().item()\n",
    "            n += len(y)\n",
    "        #\n",
    "    loss /= n\n",
    "    acc /= n\n",
    "    return loss, acc\n",
    "  \n",
    "def training_loop(n_epochs, optim, model, loss_fn, dl_train, dl_val, hist=None):\n",
    "    if hist is not None:\n",
    "        pass\n",
    "    else:\n",
    "        hist = {'tloss': [], 'tacc': [], 'vloss': [], 'vacc': []}\n",
    "        \n",
    "    for epoch in range(1, n_epochs+1):\n",
    "        tr_loss, tr_acc = 0., 0.\n",
    "        n_data = 0\n",
    "        for im_batch, label_batch in dl_train: # minibatch\n",
    "            im_batch, label_batch = im_batch.to(device), label_batch.to(device)\n",
    "            ypred = model(im_batch)\n",
    "            loss_train = loss_fn(ypred, label_batch)\n",
    "        \n",
    "            optim.zero_grad()\n",
    "            loss_train.backward()\n",
    "            optim.step()\n",
    "\n",
    "            \n",
    "            # accumulate correct prediction\n",
    "            tr_acc  += (torch.argmax(ypred.detach(), dim=1) == label_batch).sum().item() # number of correct predictions\n",
    "            tr_loss += loss_train.item() * im_batch.shape[0]\n",
    "            n_data  += im_batch.shape[0]\n",
    "        #\n",
    "        # statistics\n",
    "        tr_loss /= n_data\n",
    "        tr_acc  /= n_data\n",
    "        #\n",
    "        val_loss, val_acc = performance(model, loss_fn, dl_val)\n",
    "        \n",
    "        if epoch <= 5 or epoch % 10 == 0 or epoch == n_epochs:\n",
    "             print(f'Epoch {epoch}, tloss {tr_loss:.2f} t_acc: {tr_acc:.4f}  vloss {val_loss:.2f}  v_acc: {val_acc:.4f}')\n",
    "            \n",
    "        # record for history return\n",
    "        hist['tloss'].append(tr_loss)\n",
    "        hist['vloss'].append(val_loss) \n",
    "        hist['tacc'].append(tr_acc)\n",
    "        hist['vacc'].append(val_acc)\n",
    "        \n",
    "    print ('finished training_loop().')\n",
    "    return hist"
   ]
  },
  {
   "cell_type": "markdown",
   "metadata": {
    "colab_type": "text",
    "id": "IcdzVvWxefTc"
   },
   "source": [
    "## Model with Two Linear Blocks"
   ]
  },
  {
   "cell_type": "code",
   "execution_count": 0,
   "metadata": {
    "colab": {},
    "colab_type": "code",
    "id": "rMotsbUWefTe"
   },
   "outputs": [],
   "source": [
    "class LinearBlock(nn.Module):\n",
    "    def __init__(self, in_features, out_features, activation = 'tanh'):\n",
    "        super().__init__()\n",
    "        \n",
    "        self.Linear = nn.Linear(in_features = in_features, out_features = out_features)\n",
    "        self.BatchNorm = nn.BatchNorm1d(out_features)\n",
    "\n",
    "        if activation == 'relu':\n",
    "            self.activation = nn.ReLU()\n",
    "        else:\n",
    "            self.activation = nn.Tanh()\n",
    "\n",
    "    def forward(self, input):\n",
    "        linear = self.Linear(input)\n",
    "        batchnorm = self.BatchNorm(linear)\n",
    "        activation = self.activation(batchnorm)\n",
    "\n",
    "        return activation\n",
    "\n",
    "\n",
    "class MNISTNetwork(nn.Module):\n",
    "    def __init__(self, n_features, n_target, activation = 'tanh'):\n",
    "        super().__init__()\n",
    "        \n",
    "        self.Hidden_1 = LinearBlock(n_features, n_features//2 ,activation = activation)  \n",
    "        self.Hidden_2 = LinearBlock(n_features//2, n_features//4, activation = activation)  \n",
    "        self.Linear = nn.Linear(n_features//4, n_target)\n",
    "        self.activation = nn.LogSoftmax(dim = 1)\n",
    "\n",
    "    def forward(self, input):\n",
    "        Hidden_1 = self.Hidden_1(input)\n",
    "        Hidden_2 = self.Hidden_2(Hidden_1)\n",
    "        Linear = self.Linear(Hidden_2)\n",
    "        Softmax = self.activation(Linear)\n",
    "\n",
    "        return Softmax"
   ]
  },
  {
   "cell_type": "code",
   "execution_count": 8,
   "metadata": {
    "colab": {
     "base_uri": "https://localhost:8080/",
     "height": 269
    },
    "colab_type": "code",
    "id": "8ekdwVz6efUK",
    "outputId": "c805ea15-cc38-42e9-f101-6e454f4ea8c4"
   },
   "outputs": [
    {
     "data": {
      "text/plain": [
       "MNISTNetwork(\n",
       "  (Hidden_1): LinearBlock(\n",
       "    (Linear): Linear(in_features=784, out_features=392, bias=True)\n",
       "    (BatchNorm): BatchNorm1d(392, eps=1e-05, momentum=0.1, affine=True, track_running_stats=True)\n",
       "    (activation): Tanh()\n",
       "  )\n",
       "  (Hidden_2): LinearBlock(\n",
       "    (Linear): Linear(in_features=392, out_features=196, bias=True)\n",
       "    (BatchNorm): BatchNorm1d(196, eps=1e-05, momentum=0.1, affine=True, track_running_stats=True)\n",
       "    (activation): Tanh()\n",
       "  )\n",
       "  (Linear): Linear(in_features=196, out_features=10, bias=True)\n",
       "  (activation): LogSoftmax()\n",
       ")"
      ]
     },
     "execution_count": 8,
     "metadata": {
      "tags": []
     },
     "output_type": "execute_result"
    }
   ],
   "source": [
    "in_features = 28*28\n",
    "n_target = 10\n",
    "\n",
    "net = MNISTNetwork(in_features, n_target).to(device)\n",
    "net"
   ]
  },
  {
   "cell_type": "code",
   "execution_count": 0,
   "metadata": {
    "colab": {},
    "colab_type": "code",
    "id": "n2szs3CXefVM"
   },
   "outputs": [],
   "source": [
    "batch_size=128\n",
    "data_loader_train = torch.utils.data.DataLoader(mnist_train, batch_size=batch_size, shuffle=True)\n",
    "data_loader_test = torch.utils.data.DataLoader(mnist_test, batch_size=batch_size, shuffle=True)"
   ]
  },
  {
   "cell_type": "markdown",
   "metadata": {
    "colab_type": "text",
    "id": "iZsywfEl5oFE"
   },
   "source": [
    "### Model with SGD & Tanh"
   ]
  },
  {
   "cell_type": "code",
   "execution_count": 0,
   "metadata": {
    "colab": {},
    "colab_type": "code",
    "id": "bv_vIbI7efVd"
   },
   "outputs": [],
   "source": [
    "model_1 = MNISTNetwork(in_features, n_target).to(device)\n",
    "\n",
    "sgd = torch.optim.SGD(model_1.parameters(), lr=1e-2)\n",
    "\n",
    "loss_fn = nn.NLLLoss().to(device)"
   ]
  },
  {
   "cell_type": "code",
   "execution_count": 12,
   "metadata": {
    "colab": {
     "base_uri": "https://localhost:8080/",
     "height": 179
    },
    "colab_type": "code",
    "id": "fuacQiVrefV2",
    "outputId": "f1555958-3441-45d4-e6bb-6646ae60df40"
   },
   "outputs": [
    {
     "name": "stdout",
     "output_type": "stream",
     "text": [
      "Epoch 1, tloss 0.56 t_acc: 0.8649  vloss 0.33  v_acc: 0.9139\n",
      "Epoch 2, tloss 0.29 t_acc: 0.9204  vloss 0.25  v_acc: 0.9314\n",
      "Epoch 3, tloss 0.23 t_acc: 0.9360  vloss 0.21  v_acc: 0.9418\n",
      "Epoch 4, tloss 0.19 t_acc: 0.9455  vloss 0.18  v_acc: 0.9467\n",
      "Epoch 5, tloss 0.17 t_acc: 0.9533  vloss 0.16  v_acc: 0.9534\n",
      "Epoch 10, tloss 0.09 t_acc: 0.9749  vloss 0.11  v_acc: 0.9684\n",
      "Epoch 20, tloss 0.04 t_acc: 0.9919  vloss 0.07  v_acc: 0.9769\n",
      "Epoch 30, tloss 0.02 t_acc: 0.9978  vloss 0.07  v_acc: 0.9790\n",
      "finished training_loop().\n"
     ]
    }
   ],
   "source": [
    "history = training_loop(n_epochs=30,\n",
    "                        optim=sgd,\n",
    "                        model=model_1,\n",
    "                        loss_fn=loss_fn, \n",
    "                        dl_train=data_loader_train,\n",
    "                        dl_val = data_loader_test)"
   ]
  },
  {
   "cell_type": "code",
   "execution_count": 0,
   "metadata": {
    "colab": {},
    "colab_type": "code",
    "id": "GKVk5gSXefW2"
   },
   "outputs": [],
   "source": [
    "def plot_history(history):\n",
    "    fig, axes = plt.subplots(1,2, figsize=(16,4))\n",
    "    axes[0].set_title('Loss'); \n",
    "    axes[0].plot(history['tloss'], label='train'); axes[0].plot(history['vloss'], label='val')\n",
    "    axes[0].legend()\n",
    "    axes[1].set_title(f'Acc, Maximum Acc : {max(history[\"vacc\"])}')\n",
    "    axes[1].plot(history['tacc'], label='train'); axes[1].plot(history['vacc'], label='val')\n",
    "    axes[1].legend()"
   ]
  },
  {
   "cell_type": "code",
   "execution_count": 14,
   "metadata": {
    "colab": {
     "base_uri": "https://localhost:8080/",
     "height": 277
    },
    "colab_type": "code",
    "id": "iEpOjeiBefXH",
    "outputId": "fc0f332d-1fb3-4b73-c867-401af1ce768f"
   },
   "outputs": [
    {
     "data": {
      "image/png": "[encoded data removed]",
      "text/plain": [
       "<Figure size 1152x288 with 2 Axes>"
      ]
     },
     "metadata": {
      "needs_background": "light",
      "tags": []
     },
     "output_type": "display_data"
    }
   ],
   "source": [
    "plot_history(history)"
   ]
  },
  {
   "cell_type": "markdown",
   "metadata": {
    "colab_type": "text",
    "id": "Z94-3rzy59TW"
   },
   "source": [
    "### Model with SGD & ReLU"
   ]
  },
  {
   "cell_type": "code",
   "execution_count": 0,
   "metadata": {
    "colab": {},
    "colab_type": "code",
    "id": "P_5iusDpefXq"
   },
   "outputs": [],
   "source": [
    "model_2 = MNISTNetwork(in_features, n_target, activation = 'relu').to(device)\n",
    "\n",
    "sgd = torch.optim.SGD(model_2.parameters(), lr=1e-2)\n",
    "# sgd는 작은 learning rate로도 빨리 수렴을 했음 (경험적 결과)\n",
    "# 그러나 global minimum 이 아닌 local minimum으로 수렴하는 듯한 결과를 보임\n",
    "loss_fn = nn.NLLLoss().to(device)"
   ]
  },
  {
   "cell_type": "code",
   "execution_count": 16,
   "metadata": {
    "colab": {
     "base_uri": "https://localhost:8080/",
     "height": 179
    },
    "colab_type": "code",
    "id": "RSd_d1Hp5YKs",
    "outputId": "b6d7316a-8d5f-482e-a5af-7f61c1ef1c15"
   },
   "outputs": [
    {
     "name": "stdout",
     "output_type": "stream",
     "text": [
      "Epoch 1, tloss 0.57 t_acc: 0.8754  vloss 0.26  v_acc: 0.9370\n",
      "Epoch 2, tloss 0.20 t_acc: 0.9433  vloss 0.16  v_acc: 0.9538\n",
      "Epoch 3, tloss 0.14 t_acc: 0.9586  vloss 0.13  v_acc: 0.9604\n",
      "Epoch 4, tloss 0.11 t_acc: 0.9674  vloss 0.11  v_acc: 0.9660\n",
      "Epoch 5, tloss 0.09 t_acc: 0.9722  vloss 0.10  v_acc: 0.9700\n",
      "Epoch 10, tloss 0.05 t_acc: 0.9873  vloss 0.07  v_acc: 0.9770\n",
      "Epoch 20, tloss 0.02 t_acc: 0.9971  vloss 0.06  v_acc: 0.9791\n",
      "Epoch 30, tloss 0.01 t_acc: 0.9996  vloss 0.06  v_acc: 0.9803\n",
      "finished training_loop().\n"
     ]
    }
   ],
   "source": [
    "history = training_loop(n_epochs=30,\n",
    "                        optim=sgd,\n",
    "                        model=model_2,\n",
    "                        loss_fn=loss_fn, \n",
    "                        dl_train=data_loader_train,\n",
    "                        dl_val = data_loader_test)"
   ]
  },
  {
   "cell_type": "code",
   "execution_count": 17,
   "metadata": {
    "colab": {
     "base_uri": "https://localhost:8080/",
     "height": 277
    },
    "colab_type": "code",
    "id": "MRMQbAu95lcs",
    "outputId": "30c59501-9278-42d7-c086-6a138ceccf70"
   },
   "outputs": [
    {
     "data": {
      "image/png": "[encoded data removed]",
      "text/plain": [
       "<Figure size 1152x288 with 2 Axes>"
      ]
     },
     "metadata": {
      "needs_background": "light",
      "tags": []
     },
     "output_type": "display_data"
    }
   ],
   "source": [
    "plot_history(history)"
   ]
  },
  {
   "cell_type": "markdown",
   "metadata": {},
   "source": [
    "### Model with Adam & Tanh"
   ]
  },
  {
   "cell_type": "code",
   "execution_count": 0,
   "metadata": {
    "colab": {},
    "colab_type": "code",
    "id": "1rmjojd18VVC"
   },
   "outputs": [],
   "source": [
    "model_3 = MNISTNetwork(in_features, n_target).to(device)\n",
    "\n",
    "adam = torch.optim.Adam(model_3.parameters(), lr=1e-4)"
   ]
  },
  {
   "cell_type": "code",
   "execution_count": 26,
   "metadata": {
    "colab": {
     "base_uri": "https://localhost:8080/",
     "height": 179
    },
    "colab_type": "code",
    "id": "XQx6Dv5u8VG5",
    "outputId": "c9b1dc5f-ca36-4b56-bc21-ec568596be69"
   },
   "outputs": [
    {
     "name": "stdout",
     "output_type": "stream",
     "text": [
      "Epoch 1, tloss 0.50 t_acc: 0.8813  vloss 0.28  v_acc: 0.9274\n",
      "Epoch 2, tloss 0.22 t_acc: 0.9387  vloss 0.18  v_acc: 0.9493\n",
      "Epoch 3, tloss 0.15 t_acc: 0.9568  vloss 0.14  v_acc: 0.9598\n",
      "Epoch 4, tloss 0.11 t_acc: 0.9681  vloss 0.12  v_acc: 0.9669\n",
      "Epoch 5, tloss 0.09 t_acc: 0.9766  vloss 0.10  v_acc: 0.9713\n",
      "Epoch 10, tloss 0.02 t_acc: 0.9958  vloss 0.07  v_acc: 0.9787\n",
      "Epoch 20, tloss 0.00 t_acc: 1.0000  vloss 0.07  v_acc: 0.9807\n",
      "Epoch 30, tloss 0.00 t_acc: 1.0000  vloss 0.08  v_acc: 0.9830\n",
      "finished training_loop().\n"
     ]
    }
   ],
   "source": [
    "history = training_loop(n_epochs=30,\n",
    "                        optim=adam,\n",
    "                        model=model_3,\n",
    "                        loss_fn=loss_fn, \n",
    "                        dl_train=data_loader_train,\n",
    "                        dl_val = data_loader_test)"
   ]
  },
  {
   "cell_type": "code",
   "execution_count": 20,
   "metadata": {
    "colab": {
     "base_uri": "https://localhost:8080/",
     "height": 277
    },
    "colab_type": "code",
    "id": "gEdfbvYA9_np",
    "outputId": "786f7ac1-19f3-468c-d524-a7cf95a2c3a8"
   },
   "outputs": [
    {
     "data": {
      "image/png": "[encoded data removed]",
      "text/plain": [
       "<Figure size 1152x288 with 2 Axes>"
      ]
     },
     "metadata": {
      "needs_background": "light",
      "tags": []
     },
     "output_type": "display_data"
    }
   ],
   "source": [
    "plot_history(history)"
   ]
  },
  {
   "cell_type": "markdown",
   "metadata": {
    "colab_type": "text",
    "id": "_MPjtqlO9b55"
   },
   "source": [
    "### Model with Adam & ReLU"
   ]
  },
  {
   "cell_type": "code",
   "execution_count": 0,
   "metadata": {
    "colab": {},
    "colab_type": "code",
    "id": "zhmkwfhK8vfb"
   },
   "outputs": [],
   "source": [
    "model_4 = MNISTNetwork(in_features, n_target, activation = 'relu').to(device)\n",
    "\n",
    "adam = torch.optim.Adam(model_4.parameters(), lr=1e-4)"
   ]
  },
  {
   "cell_type": "code",
   "execution_count": 22,
   "metadata": {
    "colab": {
     "base_uri": "https://localhost:8080/",
     "height": 179
    },
    "colab_type": "code",
    "id": "9chDq6429YNe",
    "outputId": "9e1d93e2-64f7-4a69-9d30-ae85d467312d"
   },
   "outputs": [
    {
     "name": "stdout",
     "output_type": "stream",
     "text": [
      "Epoch 1, tloss 0.53 t_acc: 0.8839  vloss 0.22  v_acc: 0.9487\n",
      "Epoch 2, tloss 0.14 t_acc: 0.9583  vloss 0.12  v_acc: 0.9653\n",
      "Epoch 3, tloss 0.09 t_acc: 0.9726  vloss 0.10  v_acc: 0.9709\n",
      "Epoch 4, tloss 0.07 t_acc: 0.9806  vloss 0.08  v_acc: 0.9759\n",
      "Epoch 5, tloss 0.05 t_acc: 0.9857  vloss 0.07  v_acc: 0.9772\n",
      "Epoch 10, tloss 0.01 t_acc: 0.9973  vloss 0.07  v_acc: 0.9799\n",
      "Epoch 20, tloss 0.00 t_acc: 1.0000  vloss 0.07  v_acc: 0.9821\n",
      "Epoch 30, tloss 0.00 t_acc: 1.0000  vloss 0.09  v_acc: 0.9810\n",
      "finished training_loop().\n"
     ]
    }
   ],
   "source": [
    "history = training_loop(n_epochs=30,\n",
    "                        optim=adam,\n",
    "                        model=model_4,\n",
    "                        loss_fn=loss_fn, \n",
    "                        dl_train=data_loader_train,\n",
    "                        dl_val = data_loader_test)"
   ]
  },
  {
   "cell_type": "code",
   "execution_count": 23,
   "metadata": {
    "colab": {
     "base_uri": "https://localhost:8080/",
     "height": 277
    },
    "colab_type": "code",
    "id": "YlcGT2ak97HX",
    "outputId": "1b2b39bd-6c71-4ee0-abd6-194c66fb787e"
   },
   "outputs": [
    {
     "data": {
      "image/png": "[encoded data removed]",
      "text/plain": [
       "<Figure size 1152x288 with 2 Axes>"
      ]
     },
     "metadata": {
      "needs_background": "light",
      "tags": []
     },
     "output_type": "display_data"
    }
   ],
   "source": [
    "plot_history(history)"
   ]
  },
  {
   "cell_type": "code",
   "execution_count": 0,
   "metadata": {
    "colab": {},
    "colab_type": "code",
    "id": "_MH6y1M_-OCg"
   },
   "outputs": [],
   "source": []
  }
 ],
 "metadata": {
  "accelerator": "GPU",
  "colab": {
   "name": "03. mnist_classifier_with_linear_network.ipynb",
   "provenance": []
  },
  "kernelspec": {
   "display_name": "Python 3",
   "language": "python",
   "name": "python3"
  },
  "language_info": {
   "codemirror_mode": {
    "name": "ipython",
    "version": 3
   },
   "file_extension": ".py",
   "mimetype": "text/x-python",
   "name": "python",
   "nbconvert_exporter": "python",
   "pygments_lexer": "ipython3",
   "version": "3.8.3"
  },
  "toc": {
   "base_numbering": 1,
   "nav_menu": {},
   "number_sections": true,
   "sideBar": true,
   "skip_h1_title": false,
   "title_cell": "Table of Contents",
   "title_sidebar": "Contents",
   "toc_cell": false,
   "toc_position": {},
   "toc_section_display": true,
   "toc_window_display": false
  }
 },
 "nbformat": 4,
 "nbformat_minor": 1
}
