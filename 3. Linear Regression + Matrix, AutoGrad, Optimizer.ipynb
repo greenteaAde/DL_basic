{
  "nbformat": 4,
  "nbformat_minor": 0,
  "metadata": {
    "colab": {
      "name": "3. Linear Regression + Matrix, AutoGrad, Optimizer.ipynb",
      "provenance": []
    },
    "kernelspec": {
      "display_name": "Python 3",
      "language": "python",
      "name": "python3"
    },
    "language_info": {
      "codemirror_mode": {
        "name": "ipython",
        "version": 3
      },
      "file_extension": ".py",
      "mimetype": "text/x-python",
      "name": "python",
      "nbconvert_exporter": "python",
      "pygments_lexer": "ipython3",
      "version": "3.8.3"
    },
    "toc": {
      "base_numbering": 1,
      "nav_menu": {},
      "number_sections": true,
      "sideBar": true,
      "skip_h1_title": false,
      "title_cell": "Table of Contents",
      "title_sidebar": "Contents",
      "toc_cell": false,
      "toc_position": {},
      "toc_section_display": true,
      "toc_window_display": false
    }
  },
  "cells": [
    {
      "cell_type": "code",
      "metadata": {
        "colab_type": "code",
        "id": "1N9aKM0H2__v",
        "colab": {}
      },
      "source": [
        "import numpy as np\n",
        "import matplotlib.pyplot as plt\n",
        "import torch\n",
        "import torch.optim as optim\n",
        "\n",
        "%matplotlib inline\n",
        "plt.style.use('seaborn-whitegrid')\n",
        "torch.set_printoptions(edgeitems=2)"
      ],
      "execution_count": 80,
      "outputs": []
    },
    {
      "cell_type": "code",
      "metadata": {
        "colab_type": "code",
        "id": "ebJN7N7g3iVO",
        "colab": {}
      },
      "source": [
        "t_c = torch.tensor([0.5, 14.0, 15.0, 28.0, 11.0, 8.0, 3.0, -4.0, 6.0, 13.0, 21.0])\n",
        "t_u = torch.tensor([35.7, 55.9, 58.2, 81.9, 56.3, 48.9, 33.9, 21.8, 48.4, 60.4, 68.4])\n",
        "t_un = 0.1 * t_u"
      ],
      "execution_count": 81,
      "outputs": []
    },
    {
      "cell_type": "markdown",
      "metadata": {
        "id": "cjeuxnAhEZtF",
        "colab_type": "text"
      },
      "source": [
        "## Linear Regression with Matrix\n",
        "&nbsp; 현재 사용하는 예시는 변수가 하나인 경우이기에 큰 차이를 느낄 수 없지만, 변수가 여러 개이고 데이터의 수가 많을 때 행렬을 사용하면 더욱 편리하고 성능 면에서도 더 뛰어난 모형을 만들 수 있다.\n"
      ]
    },
    {
      "cell_type": "code",
      "metadata": {
        "colab_type": "code",
        "id": "o_LpMq_E2RaL",
        "colab": {}
      },
      "source": [
        "# change array into matrix\n",
        "def matrix_feature(x_in, deg=5):\n",
        "    \"\"\"\n",
        "        x_in: N x 1 tensor\n",
        "        return: N x (deg+1) tensor\n",
        "    \"\"\"\n",
        "    print('x_in: ', x_in.shape)\n",
        "    z = torch.empty(x_in.shape[0], deg)\n",
        "    for i, x in enumerate(x_in):\n",
        "        z[i, :] = torch.tensor([np.power(x, n) for n in range(1,deg+1)])\n",
        "    return z"
      ],
      "execution_count": 82,
      "outputs": []
    },
    {
      "cell_type": "code",
      "metadata": {
        "colab_type": "code",
        "id": "3t6ZHhEq2Rag",
        "colab": {
          "base_uri": "https://localhost:8080/",
          "height": 53
        },
        "outputId": "4f550733-f4e3-44f5-e8e5-1ff87be320db"
      },
      "source": [
        "z_c = matrix_feature(t_c, deg=1)\n",
        "z_u = matrix_feature(t_u, deg=1)"
      ],
      "execution_count": 83,
      "outputs": [
        {
          "output_type": "stream",
          "text": [
            "x_in:  torch.Size([11])\n",
            "x_in:  torch.Size([11])\n"
          ],
          "name": "stdout"
        }
      ]
    },
    {
      "cell_type": "code",
      "metadata": {
        "colab_type": "code",
        "id": "wUKVjMCh2Rbn",
        "colab": {}
      },
      "source": [
        "def model(t_u, w, b):\n",
        "    return w * t_u + b"
      ],
      "execution_count": 84,
      "outputs": []
    },
    {
      "cell_type": "code",
      "metadata": {
        "colab_type": "code",
        "id": "QZxUmM-Z2RcA",
        "colab": {}
      },
      "source": [
        "def loss_fn(t_p, t_c):\n",
        "    squared_diffs = (t_p - t_c)**2\n",
        "    return squared_diffs.mean()"
      ],
      "execution_count": 85,
      "outputs": []
    },
    {
      "cell_type": "markdown",
      "metadata": {
        "colab_type": "text",
        "id": "RYVLkEug2RcY"
      },
      "source": [
        "## Tensor of Auto Grad\n",
        "&nbsp; `requires_grad` 속성을 `True` 로 설정하면, 해당 tensor에서 이뤄진 모든 연산들을 추적(track)하기 시작한다. 계산이 완료된 후 `backward()` 를 호출하여 모든 gradient를 자동으로 계산할 수 있다. 이 Tensor의 변화도는 `grad` attribute에 누적된다."
      ]
    },
    {
      "cell_type": "code",
      "metadata": {
        "colab_type": "code",
        "id": "RkiZgRE82Rce",
        "colab": {
          "base_uri": "https://localhost:8080/",
          "height": 35
        },
        "outputId": "9134d3a7-4bf2-4ccd-cc54-717a45922b04"
      },
      "source": [
        "params = torch.tensor([1.0, 0.0], requires_grad=True)\n",
        "params"
      ],
      "execution_count": 86,
      "outputs": [
        {
          "output_type": "execute_result",
          "data": {
            "text/plain": [
              "tensor([1., 0.], requires_grad=True)"
            ]
          },
          "metadata": {
            "tags": []
          },
          "execution_count": 86
        }
      ]
    },
    {
      "cell_type": "code",
      "metadata": {
        "colab_type": "code",
        "id": "EJyTu87l2Rfa",
        "colab": {
          "base_uri": "https://localhost:8080/",
          "height": 35
        },
        "outputId": "44cad5f8-24d3-41dc-ae25-fdbb45cc2851"
      },
      "source": [
        "pred = model(t_u, *params)\n",
        "loss = loss_fn(pred, t_c)\n",
        "loss.backward() \n",
        "\n",
        "print('dloss/dparam = ', params.grad)"
      ],
      "execution_count": 87,
      "outputs": [
        {
          "output_type": "stream",
          "text": [
            "dloss/dparam =  tensor([4517.2969,   82.6000])\n"
          ],
          "name": "stdout"
        }
      ]
    },
    {
      "cell_type": "code",
      "metadata": {
        "colab_type": "code",
        "id": "dDmCO_4D2Rfn",
        "colab": {
          "base_uri": "https://localhost:8080/",
          "height": 145
        },
        "outputId": "c9a17e65-eccc-46b5-da2c-82516942b919"
      },
      "source": [
        "loss, loss.data, loss.grad, loss.grad_fn"
      ],
      "execution_count": 88,
      "outputs": [
        {
          "output_type": "stream",
          "text": [
            "/usr/local/lib/python3.6/dist-packages/ipykernel_launcher.py:1: UserWarning: The .grad attribute of a Tensor that is not a leaf Tensor is being accessed. Its .grad attribute won't be populated during autograd.backward(). If you indeed want the gradient for a non-leaf Tensor, use .retain_grad() on the non-leaf Tensor. If you access the non-leaf Tensor by mistake, make sure you access the leaf Tensor instead. See github.com/pytorch/pytorch/pull/30531 for more informations.\n",
            "  \"\"\"Entry point for launching an IPython kernel.\n"
          ],
          "name": "stderr"
        },
        {
          "output_type": "execute_result",
          "data": {
            "text/plain": [
              "(tensor(1763.8846, grad_fn=<MeanBackward0>),\n",
              " tensor(1763.8846),\n",
              " None,\n",
              " <MeanBackward0 at 0x7faaf8103c18>)"
            ]
          },
          "metadata": {
            "tags": []
          },
          "execution_count": 88
        }
      ]
    },
    {
      "cell_type": "markdown",
      "metadata": {
        "id": "6Z_ZPhH2VxhZ",
        "colab_type": "text"
      },
      "source": [
        "&nbsp; 기록을 추적하는 것(과 메모리를 사용하는 것)을 방지하기 위해, 코드 블럭을 `with torch.no_grad():` 로 감쌀 수 있다. 이는 특히 gradient는 필요하지 않지만, `requires_grad=True` 가 설정되어 학습 가능한 매개변수를 갖는 모델을 평가(evaluate)할 때 유용하다."
      ]
    },
    {
      "cell_type": "code",
      "metadata": {
        "colab_type": "code",
        "id": "srxJQ3GQ2RgD",
        "colab": {
          "base_uri": "https://localhost:8080/",
          "height": 71
        },
        "outputId": "690a64ef-8e08-41d7-9542-3abdb9af0567"
      },
      "source": [
        "print(params.requires_grad)\n",
        "print((params**2).requires_grad)\n",
        "\n",
        "with torch.no_grad():\n",
        "    print((params**2).requires_grad)"
      ],
      "execution_count": 89,
      "outputs": [
        {
          "output_type": "stream",
          "text": [
            "True\n",
            "True\n",
            "False\n"
          ],
          "name": "stdout"
        }
      ]
    },
    {
      "cell_type": "markdown",
      "metadata": {
        "id": "VB5-mV-7WBue",
        "colab_type": "text"
      },
      "source": [
        " &nbsp; `detach()` 를 호출하여 내용물(content)은 같지만 require_grad가 다른 새로운 Tensor를 가져올 수 있다. Tensor가 기록을 추적하는 것(메모리를 사용하는 것)을 방지할 수 있다.\n",
        "\n",
        "\n"
      ]
    },
    {
      "cell_type": "code",
      "metadata": {
        "id": "c___KvQJWcYS",
        "colab_type": "code",
        "colab": {
          "base_uri": "https://localhost:8080/",
          "height": 71
        },
        "outputId": "f9ad3a76-756f-4d58-d4c5-0c5c602726ee"
      },
      "source": [
        "print(params.requires_grad)\n",
        "y = params.detach()\n",
        "print(y.requires_grad)\n",
        "print(params.eq(y).all())"
      ],
      "execution_count": 90,
      "outputs": [
        {
          "output_type": "stream",
          "text": [
            "True\n",
            "False\n",
            "tensor(True)\n"
          ],
          "name": "stdout"
        }
      ]
    },
    {
      "cell_type": "markdown",
      "metadata": {
        "id": "GsgIZcoRZzul",
        "colab_type": "text"
      },
      "source": [
        "&nbsp; 파이토치에서는 backpropagation을 시작하기 전에 gradient를 0으로 설정해주는데, 이는 backpropagation 이전에 `backward()`를 호출하면서 gradient를 누적했기 때문이다. "
      ]
    },
    {
      "cell_type": "code",
      "metadata": {
        "id": "5tYDYE1MZ0Vh",
        "colab_type": "code",
        "colab": {}
      },
      "source": [
        "if params.grad is not None:  \n",
        "    params.grad.zero_()"
      ],
      "execution_count": 91,
      "outputs": []
    },
    {
      "cell_type": "code",
      "metadata": {
        "colab_type": "code",
        "id": "qDJ25JY92Rgb",
        "colab": {}
      },
      "source": [
        "def training_loop(n_epochs, learning_rate, params, t_u, t_c):\n",
        "    for epoch in range(1, n_epochs + 1):\n",
        "        if params.grad is not None:  \n",
        "            params.grad.zero_()\n",
        "        \n",
        "        t_p = model(t_u, *params) \n",
        "        loss = loss_fn(t_p, t_c)\n",
        "        loss.backward()\n",
        "        \n",
        "        with torch.no_grad(): \n",
        "            params -= learning_rate * params.grad\n",
        "\n",
        "        if epoch % 500 == 0:\n",
        "            print('Epoch %d, Loss %f' % (epoch, float(loss)))\n",
        "            \n",
        "    return params"
      ],
      "execution_count": 92,
      "outputs": []
    },
    {
      "cell_type": "code",
      "metadata": {
        "colab_type": "code",
        "id": "jnRThWoJ2RhI",
        "colab": {
          "base_uri": "https://localhost:8080/",
          "height": 143
        },
        "outputId": "fb13fcc7-9df8-4dda-cb30-12a5ac24f644"
      },
      "source": [
        "params = training_loop(n_epochs = 3000, \n",
        "                       learning_rate = 1e-2, \n",
        "                       params = torch.tensor([1.0, 0.0], requires_grad=True), # <1> \n",
        "                       t_u = t_un, # <2> \n",
        "                       t_c = t_c)\n",
        "\n",
        "params"
      ],
      "execution_count": 93,
      "outputs": [
        {
          "output_type": "stream",
          "text": [
            "Epoch 500, Loss 7.860116\n",
            "Epoch 1000, Loss 3.828538\n",
            "Epoch 1500, Loss 3.092191\n",
            "Epoch 2000, Loss 2.957697\n",
            "Epoch 2500, Loss 2.933134\n",
            "Epoch 3000, Loss 2.928648\n"
          ],
          "name": "stdout"
        },
        {
          "output_type": "execute_result",
          "data": {
            "text/plain": [
              "tensor([  5.3489, -17.1980], requires_grad=True)"
            ]
          },
          "metadata": {
            "tags": []
          },
          "execution_count": 93
        }
      ]
    },
    {
      "cell_type": "code",
      "metadata": {
        "colab_type": "code",
        "id": "IYzIqEZn2Rhi",
        "colab": {}
      },
      "source": [
        "tlin = torch.linspace(0, 90)\n",
        "with torch.no_grad():\n",
        "    t_p = params[0] * tlin *0.1 + params[1]"
      ],
      "execution_count": 94,
      "outputs": []
    },
    {
      "cell_type": "code",
      "metadata": {
        "colab_type": "code",
        "id": "BiO_g5nG2Rh7",
        "colab": {
          "base_uri": "https://localhost:8080/",
          "height": 277
        },
        "outputId": "885224c2-b588-486a-bae8-9f56aa93a579"
      },
      "source": [
        "plt.plot(tlin, t_p, 'r-')\n",
        "plt.scatter(t_u, t_c)\n",
        "plt.title('predictions and training data');"
      ],
      "execution_count": 95,
      "outputs": [
        {
          "output_type": "display_data",
          "data": {
            "image/png": "[encoded data removed]",
            "text/plain": [
              "<Figure size 432x288 with 1 Axes>"
            ]
          },
          "metadata": {
            "tags": []
          }
        }
      ]
    },
    {
      "cell_type": "markdown",
      "metadata": {
        "colab_type": "text",
        "id": "GJxvnMDK2Rid"
      },
      "source": [
        "## Optimizers\n",
        "\n",
        "&nbsp; 지금까지는 autograd의 추적 기록을 피하기 위해 `torch.no_grad ()`를 사용하여 학습 가능한 매개변수를 갖는 Tensor를 직접 조작하며 모델의 가중치를 갱신했다. 이것은 확률적 경사 하강법(SGD)과 같은 간단한 최적화 알고리즘에서는 크게 부담이 되지는 않지만, 실제로 신경망을 학습할 때는 주로 AdaGrad, RMSProp, Adam 등과 같은 좀 더 정교한 Optimizer를 사용한다.\n",
        "\n"
      ]
    },
    {
      "cell_type": "code",
      "metadata": {
        "colab_type": "code",
        "id": "YcoAF3L_2RkE",
        "colab": {}
      },
      "source": [
        "params = torch.tensor([1.0, 0.0], requires_grad=True)\n",
        "learning_rate = 1e-2\n",
        "\n",
        "optimizer = optim.SGD([params], lr=learning_rate) # stochastic"
      ],
      "execution_count": 96,
      "outputs": []
    },
    {
      "cell_type": "code",
      "metadata": {
        "colab_type": "code",
        "id": "gw-h6GZK2RkW",
        "colab": {
          "base_uri": "https://localhost:8080/",
          "height": 53
        },
        "outputId": "c3b5ac6c-cb37-4ed2-e939-86e700fd2961"
      },
      "source": [
        "# 순전파 단계: 모델에 x를 전달하여 예상되는 y 값을 계산\n",
        "t_p = model(t_u, *params)\n",
        "\n",
        "# 손실을 계산하고 출력\n",
        "loss = loss_fn(t_p, t_c)\n",
        "\n",
        "# 역전파 단계: 모델의 매개변수에 대한 손실의 변화도를 계산\n",
        "loss.backward()\n",
        "\n",
        "# optimizer의 step 함수를 호출하면 parameter가 갱신된다.\n",
        "optimizer.step()\n",
        "\n",
        "params, params.grad"
      ],
      "execution_count": 97,
      "outputs": [
        {
          "output_type": "execute_result",
          "data": {
            "text/plain": [
              "(tensor([-44.1730,  -0.8260], requires_grad=True),\n",
              " tensor([4517.2969,   82.6000]))"
            ]
          },
          "metadata": {
            "tags": []
          },
          "execution_count": 97
        }
      ]
    },
    {
      "cell_type": "code",
      "metadata": {
        "colab_type": "code",
        "id": "3aUZTE5n2Rkv",
        "colab": {
          "base_uri": "https://localhost:8080/",
          "height": 35
        },
        "outputId": "4cddc64b-9317-445e-82c3-fa6d2e73a11d"
      },
      "source": [
        "params = torch.tensor([1.0, 0.0], requires_grad=True)\n",
        "learning_rate = 1e-2\n",
        "optimizer = optim.SGD([params], lr=learning_rate)\n",
        "\n",
        "t_p = model(t_un, *params)\n",
        "loss = loss_fn(t_p, t_c)\n",
        "\n",
        "optimizer.zero_grad()\n",
        "loss.backward()\n",
        "optimizer.step()\n",
        "\n",
        "params"
      ],
      "execution_count": 98,
      "outputs": [
        {
          "output_type": "execute_result",
          "data": {
            "text/plain": [
              "tensor([1.7761, 0.1064], requires_grad=True)"
            ]
          },
          "metadata": {
            "tags": []
          },
          "execution_count": 98
        }
      ]
    },
    {
      "cell_type": "code",
      "metadata": {
        "colab_type": "code",
        "id": "LlO4x3UN2Rk8",
        "colab": {}
      },
      "source": [
        "def training_loop(n_epochs, optimizer, params, t_u, t_c):\n",
        "    for epoch in range(1, n_epochs + 1):\n",
        "        t_p = model(t_u, *params) \n",
        "        loss = loss_fn(t_p, t_c)\n",
        "        \n",
        "        optimizer.zero_grad()\n",
        "        loss.backward()\n",
        "        optimizer.step()\n",
        "\n",
        "        if epoch % 500 == 0:\n",
        "            print('Epoch %d, Loss %f' % (epoch, float(loss)))\n",
        "            \n",
        "    return params"
      ],
      "execution_count": 99,
      "outputs": []
    },
    {
      "cell_type": "code",
      "metadata": {
        "colab_type": "code",
        "id": "ZAJoDTA-2RlF",
        "colab": {
          "base_uri": "https://localhost:8080/",
          "height": 215
        },
        "outputId": "5e31e3ef-7878-4a46-f92f-1b70029c1d80"
      },
      "source": [
        "params = torch.tensor([1.0, 0.0], requires_grad=True)\n",
        "learning_rate = 1e-2\n",
        "optimizer = optim.SGD([params], lr=learning_rate) # <1>\n",
        "\n",
        "training_loop(\n",
        "    n_epochs = 5000, \n",
        "    optimizer = optimizer,\n",
        "    params = params, # <1> \n",
        "    t_u = t_un,\n",
        "    t_c = t_c)"
      ],
      "execution_count": 100,
      "outputs": [
        {
          "output_type": "stream",
          "text": [
            "Epoch 500, Loss 7.860118\n",
            "Epoch 1000, Loss 3.828538\n",
            "Epoch 1500, Loss 3.092191\n",
            "Epoch 2000, Loss 2.957697\n",
            "Epoch 2500, Loss 2.933134\n",
            "Epoch 3000, Loss 2.928648\n",
            "Epoch 3500, Loss 2.927830\n",
            "Epoch 4000, Loss 2.927680\n",
            "Epoch 4500, Loss 2.927651\n",
            "Epoch 5000, Loss 2.927648\n"
          ],
          "name": "stdout"
        },
        {
          "output_type": "execute_result",
          "data": {
            "text/plain": [
              "tensor([  5.3671, -17.3012], requires_grad=True)"
            ]
          },
          "metadata": {
            "tags": []
          },
          "execution_count": 100
        }
      ]
    },
    {
      "cell_type": "code",
      "metadata": {
        "id": "ra4EE9ZQqfy3",
        "colab_type": "code",
        "colab": {
          "base_uri": "https://localhost:8080/",
          "height": 277
        },
        "outputId": "28b86485-55f1-4998-d698-485a3d925eb4"
      },
      "source": [
        "tlin = torch.linspace(0, 90)\n",
        "with torch.no_grad():\n",
        "    t_p = params[0] * tlin *0.1 + params[1]\n",
        "    \n",
        "plt.plot(tlin, t_p, 'r-')\n",
        "plt.scatter(t_u, t_c)\n",
        "plt.title('predictions and training data');"
      ],
      "execution_count": 101,
      "outputs": [
        {
          "output_type": "display_data",
          "data": {
            "image/png": "[encoded data removed]",
            "text/plain": [
              "<Figure size 432x288 with 1 Axes>"
            ]
          },
          "metadata": {
            "tags": []
          }
        }
      ]
    },
    {
      "cell_type": "markdown",
      "metadata": {
        "colab_type": "text",
        "id": "R_jkfCI52Rla"
      },
      "source": [
        "### Adam instead of SGD"
      ]
    },
    {
      "cell_type": "code",
      "metadata": {
        "colab_type": "code",
        "id": "CYrEkFh_2Rle",
        "colab": {
          "base_uri": "https://localhost:8080/",
          "height": 215
        },
        "outputId": "1ca9f58c-f86a-4754-f96e-32aceeb765c6"
      },
      "source": [
        "params = torch.tensor([1.0, 0.0], requires_grad=True)\n",
        "learning_rate = 1e-1\n",
        "optimizer = optim.Adam([params], lr=learning_rate) # <1>\n",
        "\n",
        "training_loop(\n",
        "    n_epochs = 5000, \n",
        "    optimizer = optimizer,\n",
        "    params = params,\n",
        "    t_u = t_un, \n",
        "    t_c = t_c)"
      ],
      "execution_count": 102,
      "outputs": [
        {
          "output_type": "stream",
          "text": [
            "Epoch 500, Loss 2.962302\n",
            "Epoch 1000, Loss 2.927647\n",
            "Epoch 1500, Loss 2.927646\n",
            "Epoch 2000, Loss 2.927646\n",
            "Epoch 2500, Loss 2.927646\n",
            "Epoch 3000, Loss 2.927646\n",
            "Epoch 3500, Loss 2.927646\n",
            "Epoch 4000, Loss 2.927645\n",
            "Epoch 4500, Loss 2.927644\n",
            "Epoch 5000, Loss 2.927645\n"
          ],
          "name": "stdout"
        },
        {
          "output_type": "execute_result",
          "data": {
            "text/plain": [
              "tensor([  5.3677, -17.3048], requires_grad=True)"
            ]
          },
          "metadata": {
            "tags": []
          },
          "execution_count": 102
        }
      ]
    },
    {
      "cell_type": "code",
      "metadata": {
        "id": "24WSN1a2qbKd",
        "colab_type": "code",
        "colab": {
          "base_uri": "https://localhost:8080/",
          "height": 277
        },
        "outputId": "92ef3824-d5a9-4a57-9299-50c0772e2e2d"
      },
      "source": [
        "tlin = torch.linspace(0, 90)\n",
        "with torch.no_grad():\n",
        "    t_p = params[0] * tlin *0.1 + params[1]\n",
        "    \n",
        "plt.plot(tlin, t_p, 'r-')\n",
        "plt.scatter(t_u, t_c)\n",
        "plt.title('predictions and training data');"
      ],
      "execution_count": 103,
      "outputs": [
        {
          "output_type": "display_data",
          "data": {
            "image/png": "[encoded data removed]",
            "text/plain": [
              "<Figure size 432x288 with 1 Axes>"
            ]
          },
          "metadata": {
            "tags": []
          }
        }
      ]
    }
  ]
}